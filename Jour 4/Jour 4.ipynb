{
 "cells": [
  {
   "cell_type": "markdown",
   "id": "02b1c97a",
   "metadata": {},
   "source": [
    "# Récap du jour 3 \n",
    "\n",
    "* manipulation de dictionnaires (pour compter des mots)\n",
    "* approché les *fonctions d'ordres supérieur* avec la fonction `sorted`\n",
    "* manipulation de JSON \n",
    "* pretty print avec `pprint`\n",
    "* POO (ENFIN !)\n",
    "   * définition de types\n",
    "   * méthodes et attributs \n"
   ]
  },
  {
   "cell_type": "code",
   "execution_count": 18,
   "id": "d9e7bb81",
   "metadata": {},
   "outputs": [],
   "source": [
    "import random\n",
    "import numpy as np\n",
    "import math"
   ]
  },
  {
   "cell_type": "code",
   "execution_count": 17,
   "id": "26500656",
   "metadata": {},
   "outputs": [
    {
     "data": {
      "text/plain": [
       "[3, 2, 1]"
      ]
     },
     "execution_count": 17,
     "metadata": {},
     "output_type": "execute_result"
    }
   ],
   "source": [
    "sorted([1, 2, 3], key=lambda item: random.random())"
   ]
  },
  {
   "cell_type": "markdown",
   "id": "08b6faeb",
   "metadata": {},
   "source": [
    "# Calcul hautes performances\n",
    "\n",
    "Pour faire de la perf en Python, on utilise les bibliothèques de calcul scientifique (numpy, pandas, ...). Ou alors on utilise `Julia`"
   ]
  },
  {
   "cell_type": "code",
   "execution_count": 10,
   "id": "0adcd404",
   "metadata": {},
   "outputs": [
    {
     "name": "stdout",
     "output_type": "stream",
     "text": [
      "2.28 s ± 37.3 ms per loop (mean ± std. dev. of 7 runs, 1 loop each)\n"
     ]
    }
   ],
   "source": [
    "%%timeit\n",
    "\n",
    "a = []\n",
    "for nombre in range(10_000_000):\n",
    "    a.append(math.cos(nombre))"
   ]
  },
  {
   "cell_type": "code",
   "execution_count": 12,
   "id": "6db77c2a",
   "metadata": {},
   "outputs": [
    {
     "name": "stdout",
     "output_type": "stream",
     "text": [
      "1.56 s ± 47.1 ms per loop (mean ± std. dev. of 7 runs, 1 loop each)\n"
     ]
    }
   ],
   "source": [
    "%timeit a = list(map(math.cos, range(10_000_000)))"
   ]
  },
  {
   "cell_type": "code",
   "execution_count": 16,
   "id": "592d9054",
   "metadata": {},
   "outputs": [
    {
     "name": "stdout",
     "output_type": "stream",
     "text": [
      "150 ms ± 14.4 ms per loop (mean ± std. dev. of 7 runs, 10 loops each)\n"
     ]
    }
   ],
   "source": [
    "%timeit a = np.cos(np.arange(10_000_000))"
   ]
  },
  {
   "cell_type": "markdown",
   "id": "96cead0f",
   "metadata": {},
   "source": [
    "# POO"
   ]
  },
  {
   "cell_type": "code",
   "execution_count": 62,
   "id": "5f190c47",
   "metadata": {},
   "outputs": [],
   "source": [
    "class Interrupteur:\n",
    "    def __init__(self, question_lieu, etat):\n",
    "        self.question_lieu = question_lieu\n",
    "        self.etat = etat\n",
    "\n",
    "    def afficher_etat(self):\n",
    "        if self.etat == 1:\n",
    "            print(f\"la lumiere > {self.question_lieu} < est allumé(e)\")\n",
    "        elif self.etat == 0:\n",
    "            print(f\"la lumiere > {self.question_lieu} < est éteinte\")\n",
    "        else:\n",
    "            self.etat != 0 or self.etat != 1\n",
    "            print(\"Veuillez actionner le bouton, l'état doit être en 0 et 1\")\n",
    "\n",
    "    def actionner_bouton(self, etat_voulu):\n",
    "        self.etat = etat_voulu\n",
    "\n",
    "    def __str__(self):\n",
    "        return f\"interrupteur du {self.question_lieu} est {self.etat}\"\n",
    "        "
   ]
  },
  {
   "cell_type": "code",
   "execution_count": 60,
   "id": "ea1bd4bc",
   "metadata": {},
   "outputs": [
    {
     "name": "stdout",
     "output_type": "stream",
     "text": [
      "interrupteur du salon est 1\n",
      "<class '__main__.Interrupteur'>\n"
     ]
    },
    {
     "ename": "TypeError",
     "evalue": "'NoneType' object is not callable",
     "output_type": "error",
     "traceback": [
      "\u001b[1;31m---------------------------------------------------------------------------\u001b[0m",
      "\u001b[1;31mTypeError\u001b[0m                                 Traceback (most recent call last)",
      "\u001b[1;32m~\\AppData\\Local\\Temp/ipykernel_21360/3485527119.py\u001b[0m in \u001b[0;36m<module>\u001b[1;34m\u001b[0m\n\u001b[0;32m      5\u001b[0m \u001b[0mprint\u001b[0m\u001b[1;33m(\u001b[0m\u001b[0mi\u001b[0m\u001b[1;33m)\u001b[0m\u001b[1;33m\u001b[0m\u001b[1;33m\u001b[0m\u001b[0m\n\u001b[0;32m      6\u001b[0m \u001b[1;33m\u001b[0m\u001b[0m\n\u001b[1;32m----> 7\u001b[1;33m \u001b[0mi\u001b[0m\u001b[1;33m.\u001b[0m\u001b[0mafficher_etat\u001b[0m\u001b[1;33m(\u001b[0m\u001b[1;33m)\u001b[0m\u001b[1;33m\u001b[0m\u001b[1;33m\u001b[0m\u001b[0m\n\u001b[0m",
      "\u001b[1;32m~\\AppData\\Local\\Temp/ipykernel_21360/3244191002.py\u001b[0m in \u001b[0;36mafficher_etat\u001b[1;34m(self)\u001b[0m\n\u001b[0;32m      5\u001b[0m \u001b[1;33m\u001b[0m\u001b[0m\n\u001b[0;32m      6\u001b[0m     \u001b[1;32mdef\u001b[0m \u001b[0mafficher_etat\u001b[0m\u001b[1;33m(\u001b[0m\u001b[0mself\u001b[0m\u001b[1;33m)\u001b[0m\u001b[1;33m:\u001b[0m\u001b[1;33m\u001b[0m\u001b[1;33m\u001b[0m\u001b[0m\n\u001b[1;32m----> 7\u001b[1;33m         \u001b[0mprint\u001b[0m\u001b[1;33m(\u001b[0m\u001b[0mtype\u001b[0m\u001b[1;33m(\u001b[0m\u001b[0mself\u001b[0m\u001b[1;33m)\u001b[0m\u001b[1;33m)\u001b[0m\u001b[1;33m(\u001b[0m\u001b[1;33m)\u001b[0m\u001b[1;33m\u001b[0m\u001b[1;33m\u001b[0m\u001b[0m\n\u001b[0m\u001b[0;32m      8\u001b[0m         \u001b[1;32mif\u001b[0m \u001b[0mself\u001b[0m\u001b[1;33m.\u001b[0m\u001b[0metat\u001b[0m \u001b[1;33m==\u001b[0m \u001b[1;36m1\u001b[0m\u001b[1;33m:\u001b[0m\u001b[1;33m\u001b[0m\u001b[1;33m\u001b[0m\u001b[0m\n\u001b[0;32m      9\u001b[0m             \u001b[0mprint\u001b[0m\u001b[1;33m(\u001b[0m\u001b[1;34mf\"la lumiere > {self.question_lieu} < est allumé(e)\"\u001b[0m\u001b[1;33m)\u001b[0m\u001b[1;33m\u001b[0m\u001b[1;33m\u001b[0m\u001b[0m\n",
      "\u001b[1;31mTypeError\u001b[0m: 'NoneType' object is not callable"
     ]
    }
   ],
   "source": [
    "i  = Interrupteur(\"salon\", 1)\n",
    "dir(i)\n",
    "i.trroolo = \"toto\"\n",
    "dir(i)\n",
    "print(i)\n",
    "\n",
    "i.afficher_etat()"
   ]
  },
  {
   "cell_type": "code",
   "execution_count": 46,
   "id": "e7fcc8da",
   "metadata": {},
   "outputs": [
    {
     "name": "stdout",
     "output_type": "stream",
     "text": [
      "dans voiture\n",
      "dans vehicule\n"
     ]
    },
    {
     "ename": "ZeroDivisionError",
     "evalue": "Un vehicule, doit avoir un moteur",
     "output_type": "error",
     "traceback": [
      "\u001b[1;31m---------------------------------------------------------------------------\u001b[0m",
      "\u001b[1;31mZeroDivisionError\u001b[0m                         Traceback (most recent call last)",
      "\u001b[1;32m~\\AppData\\Local\\Temp/ipykernel_21360/3582975330.py\u001b[0m in \u001b[0;36m<module>\u001b[1;34m\u001b[0m\n\u001b[0;32m     32\u001b[0m \u001b[1;33m\u001b[0m\u001b[0m\n\u001b[0;32m     33\u001b[0m \u001b[1;32mtry\u001b[0m\u001b[1;33m:\u001b[0m\u001b[1;33m\u001b[0m\u001b[1;33m\u001b[0m\u001b[0m\n\u001b[1;32m---> 34\u001b[1;33m     \u001b[0mma_voiture\u001b[0m \u001b[1;33m=\u001b[0m \u001b[0mVoiture\u001b[0m\u001b[1;33m(\u001b[0m\u001b[1;33m)\u001b[0m\u001b[1;33m\u001b[0m\u001b[1;33m\u001b[0m\u001b[0m\n\u001b[0m\u001b[0;32m     35\u001b[0m \u001b[1;32mexcept\u001b[0m \u001b[0mAttributeError\u001b[0m\u001b[1;33m:\u001b[0m\u001b[1;33m\u001b[0m\u001b[1;33m\u001b[0m\u001b[0m\n\u001b[0;32m     36\u001b[0m     \u001b[0mprint\u001b[0m\u001b[1;33m(\u001b[0m\u001b[1;34m\"c'est cassé\"\u001b[0m\u001b[1;33m)\u001b[0m\u001b[1;33m\u001b[0m\u001b[1;33m\u001b[0m\u001b[0m\n",
      "\u001b[1;32m~\\AppData\\Local\\Temp/ipykernel_21360/3582975330.py\u001b[0m in \u001b[0;36m__init__\u001b[1;34m(self)\u001b[0m\n\u001b[0;32m     28\u001b[0m         \u001b[0mprint\u001b[0m\u001b[1;33m(\u001b[0m\u001b[1;34m\"dans voiture\"\u001b[0m\u001b[1;33m)\u001b[0m\u001b[1;33m\u001b[0m\u001b[1;33m\u001b[0m\u001b[0m\n\u001b[0;32m     29\u001b[0m         \u001b[1;31m#self.moteur = MoteurElectrique()\u001b[0m\u001b[1;33m\u001b[0m\u001b[1;33m\u001b[0m\u001b[1;33m\u001b[0m\u001b[0m\n\u001b[1;32m---> 30\u001b[1;33m         \u001b[0msuper\u001b[0m\u001b[1;33m(\u001b[0m\u001b[1;33m)\u001b[0m\u001b[1;33m.\u001b[0m\u001b[0m__init__\u001b[0m\u001b[1;33m(\u001b[0m\u001b[1;33m)\u001b[0m\u001b[1;33m\u001b[0m\u001b[1;33m\u001b[0m\u001b[0m\n\u001b[0m\u001b[0;32m     31\u001b[0m \u001b[1;33m\u001b[0m\u001b[0m\n\u001b[0;32m     32\u001b[0m \u001b[1;33m\u001b[0m\u001b[0m\n",
      "\u001b[1;32m~\\AppData\\Local\\Temp/ipykernel_21360/3582975330.py\u001b[0m in \u001b[0;36m__init__\u001b[1;34m(self)\u001b[0m\n\u001b[0;32m      3\u001b[0m         \u001b[0mprint\u001b[0m\u001b[1;33m(\u001b[0m\u001b[1;34m\"dans vehicule\"\u001b[0m\u001b[1;33m)\u001b[0m\u001b[1;33m\u001b[0m\u001b[1;33m\u001b[0m\u001b[0m\n\u001b[0;32m      4\u001b[0m         \u001b[1;32mif\u001b[0m \u001b[1;32mnot\u001b[0m \u001b[0mhasattr\u001b[0m\u001b[1;33m(\u001b[0m\u001b[0mself\u001b[0m\u001b[1;33m,\u001b[0m \u001b[1;34m\"moteur\"\u001b[0m\u001b[1;33m)\u001b[0m\u001b[1;33m:\u001b[0m\u001b[1;33m\u001b[0m\u001b[1;33m\u001b[0m\u001b[0m\n\u001b[1;32m----> 5\u001b[1;33m             \u001b[1;32mraise\u001b[0m \u001b[0mZeroDivisionError\u001b[0m\u001b[1;33m(\u001b[0m\u001b[1;34m\"Un vehicule, doit avoir un moteur\"\u001b[0m\u001b[1;33m)\u001b[0m\u001b[1;33m\u001b[0m\u001b[1;33m\u001b[0m\u001b[0m\n\u001b[0m\u001b[0;32m      6\u001b[0m \u001b[1;33m\u001b[0m\u001b[0m\n\u001b[0;32m      7\u001b[0m     \u001b[1;32mdef\u001b[0m \u001b[0mse_deplacer\u001b[0m\u001b[1;33m(\u001b[0m\u001b[0mself\u001b[0m\u001b[1;33m)\u001b[0m\u001b[1;33m:\u001b[0m\u001b[1;33m\u001b[0m\u001b[1;33m\u001b[0m\u001b[0m\n",
      "\u001b[1;31mZeroDivisionError\u001b[0m: Un vehicule, doit avoir un moteur"
     ]
    }
   ],
   "source": [
    "class Vehicule():\n",
    "    def __init__(self):\n",
    "        print(\"dans vehicule\")\n",
    "        if not hasattr(self, \"moteur\"):\n",
    "            raise ZeroDivisionError(\"Un vehicule, doit avoir un moteur\")\n",
    "    \n",
    "    def se_deplacer(self):\n",
    "        print(self.moteur.categorie)\n",
    "        print(self.moteur.bruit)\n",
    "\n",
    "class MoteurThermique():\n",
    "    def __init__(self):\n",
    "        self.nom = \"V11 turbo\"\n",
    "        self.categorie = \"thermique\"\n",
    "        self.bruit = \"VROOOOOOOOOMMMMMMM\"\n",
    "\n",
    "class MoteurElectrique():\n",
    "    def __init__(self):\n",
    "        self.nom = \"synchrone\"\n",
    "        self.categorie = \"electrique\"\n",
    "        self.bruit = \"chuuuuuuuuuuuuu\"\n",
    "        \n",
    "        \n",
    "\n",
    "        \n",
    "class Voiture(Vehicule):\n",
    "    def __init__(self):\n",
    "        print(\"dans voiture\")\n",
    "        #self.moteur = MoteurElectrique()\n",
    "        super().__init__()\n",
    "\n",
    "\n",
    "try:\n",
    "    ma_voiture = Voiture()\n",
    "except AttributeError:\n",
    "    print(\"c'est cassé\")\n",
    "else:\n",
    "    print(ma_voiture.moteur.nom)\n",
    "    ma_voiture.se_deplacer()\n",
    "\n"
   ]
  },
  {
   "cell_type": "code",
   "execution_count": 42,
   "id": "4e871b42",
   "metadata": {},
   "outputs": [],
   "source": [
    "del ma_voiture"
   ]
  },
  {
   "cell_type": "code",
   "execution_count": 102,
   "id": "940192d8",
   "metadata": {
    "scrolled": true
   },
   "outputs": [
    {
     "name": "stdout",
     "output_type": "stream",
     "text": [
      "44\n",
      "\n",
      "44\n",
      "44\n",
      "44\n"
     ]
    }
   ],
   "source": [
    "class Personne():\n",
    "    AGE_MOJORITE = 20\n",
    "    \n",
    "    def __init__(self):\n",
    "        print(self.AGE_MOJORITE)\n",
    "        self.name = \"Matthieu\"\n",
    "        \n",
    "    def presentation(self):\n",
    "        pass\n",
    "\n",
    "Personne.AGE_MOJORITE = 44\n",
    "p = Personne()\n",
    "p.AGE_MOJORITE = 433\n",
    "print()\n",
    "Personne()\n",
    "Personne()\n",
    "print(Personne.AGE_MOJORITE)"
   ]
  },
  {
   "cell_type": "markdown",
   "id": "ffed12c1",
   "metadata": {},
   "source": [
    "## Accès aux attributs\n",
    "\n",
    "Pour accéder à un attribut, Python suit un cheminement \"complexe\", le voici défini par ordre de priorité : \n",
    "\n",
    "1. dans l'instance en cours \n",
    "2. dans les variables de classe\n",
    "3. dans l'instance parente\n",
    "4. remonte l'arbre d'héritage jusqu'à arriver à sa racine (le type `objet`)\n",
    "5. si pas trouvé => renvoie une `AttributeError\n"
   ]
  },
  {
   "cell_type": "code",
   "execution_count": 72,
   "id": "a17da65d",
   "metadata": {},
   "outputs": [
    {
     "name": "stdout",
     "output_type": "stream",
     "text": [
      "3\n"
     ]
    }
   ],
   "source": [
    "a = 2\n",
    "\n",
    "def f():\n",
    "    a = 3\n",
    "    print(a)\n",
    "    \n",
    "f()"
   ]
  },
  {
   "cell_type": "code",
   "execution_count": 79,
   "id": "598d2bb6",
   "metadata": {},
   "outputs": [
    {
     "name": "stdout",
     "output_type": "stream",
     "text": [
      "Je m'appelle Nicolas né en 1990 (age=31) ; majeur=oui\n",
      "Je m'appelle Nicolas né en 1990 (age=31) ; majeur=oui\n"
     ]
    }
   ],
   "source": [
    "nom = \"Nicolas\"\n",
    "naissance = 1990\n",
    "age = 31\n",
    "est_majeur = \"oui\"\n",
    "\n",
    "a = f\"Je m'appelle {nom} né en {naissance} (age={age})\" \n",
    "b = f\"majeur={est_majeur}\"\n",
    "print(f\"{a} ; {b}\")\n",
    "\n",
    "res = (\n",
    "    f\"Je m'appelle {nom} né en {naissance} (age={age}) ; \"\n",
    "    f\"majeur={est_majeur}\"\n",
    ")\n",
    "print(res)"
   ]
  },
  {
   "cell_type": "code",
   "execution_count": 81,
   "id": "01e90540",
   "metadata": {},
   "outputs": [
    {
     "data": {
      "text/plain": [
       "\"Je m'appelle Nicolas né en 1990 (age=31) ; majeur=oui\""
      ]
     },
     "execution_count": 81,
     "metadata": {},
     "output_type": "execute_result"
    }
   ],
   "source": [
    "\"Je m'appelle \" \\\n",
    "+ nom \\\n",
    "+ \" né en \" \\\n",
    "+ str(naissance) \\\n",
    "+ \" (age=\" \\\n",
    "+ str(age) \\\n",
    "+ \") ; majeur=\" \\\n",
    "+ str(est_majeur)"
   ]
  },
  {
   "cell_type": "code",
   "execution_count": 89,
   "id": "ada5b5de",
   "metadata": {},
   "outputs": [
    {
     "data": {
      "text/plain": [
       "10"
      ]
     },
     "execution_count": 89,
     "metadata": {},
     "output_type": "execute_result"
    }
   ],
   "source": [
    "(1023).bit_length()"
   ]
  },
  {
   "cell_type": "code",
   "execution_count": 105,
   "id": "e0f0729c",
   "metadata": {},
   "outputs": [
    {
     "data": {
      "text/plain": [
       "{'name': 'Matthieu', 'AGE_MOJORITE': 433}"
      ]
     },
     "execution_count": 105,
     "metadata": {},
     "output_type": "execute_result"
    }
   ],
   "source": [
    "p.__dict__"
   ]
  },
  {
   "cell_type": "code",
   "execution_count": 111,
   "id": "8ee47817",
   "metadata": {},
   "outputs": [
    {
     "name": "stdout",
     "output_type": "stream",
     "text": [
      "methode classique <__main__.Exemple object at 0x0000025999626EE0>\n",
      "methode de classe <class '__main__.Exemple'>\n",
      "methode statique\n",
      "------\n",
      "methode de classe <class '__main__.Exemple'>\n"
     ]
    }
   ],
   "source": [
    "class Exemple():\n",
    "    def methode_classique(self):\n",
    "        print(\"methode classique\", self)\n",
    "    \n",
    "    @classmethod \n",
    "    def methode_de_classe(cls): \n",
    "        print(\"methode de classe\", cls)\n",
    "\n",
    "    @staticmethod\n",
    "    def methode_statique(): \n",
    "        print(\"methode statique\")\n",
    "\n",
    "        \n",
    "# on déclare une instance\n",
    "e = Exemple()\n",
    "e.methode_classique()\n",
    "e.methode_de_classe()\n",
    "e.methode_statique()\n",
    "\n",
    "print(\"------\")\n",
    "\n",
    "Exemple.methode_de_classe()"
   ]
  },
  {
   "cell_type": "code",
   "execution_count": null,
   "id": "aed7e612",
   "metadata": {},
   "outputs": [],
   "source": [
    "class Tuyau():\n",
    "    def __init__(self, geometrie):\n",
    "        pass \n",
    "\n",
    "    @staticmethod\n",
    "    def traitement_fichier_ascii(fichier_de_geometrie):\n",
    "        ... \n",
    "        return geometrie\n",
    "\n",
    "    @staticmethod\n",
    "    def traitement_fichier_binaire(fichier_de_geometrie):\n",
    "        ...\n",
    "        return geometrie\n",
    "    \n",
    "    @classmethod\n",
    "    def load_from_fichier_type_ascii(cls, fichier):\n",
    "        geometrie = traitement_fichier_ascii(fichier)\n",
    "        return cls(geometrie)\n",
    "    \n",
    "    @classmethod\n",
    "    def load_from_fichier_type_binaire(cls, fichier):\n",
    "        geometrie = traitement_fichier_binaire(fichier)\n",
    "        return cls(geometrie)\n",
    "    \n",
    "    @classmethod\n",
    "    def load_from_fichier(cls, fichier):\n",
    "        if type_fichier == \"binaire\":\n",
    "            return cls.load_from_fichier_type_binaire(fichier)\n",
    "        elif type_fichier == \"ascii\":\n",
    "            return cls.load_from_fichier_type_ascii(fichier)\n",
    "            \n",
    "    \n",
    "tuyau = Tuyau.load_from_fichier_type_a(\"/tmp/....\")\n",
    "tuyau.compute()"
   ]
  }
 ],
 "metadata": {
  "kernelspec": {
   "display_name": "Python 3 (ipykernel)",
   "language": "python",
   "name": "python3"
  },
  "language_info": {
   "codemirror_mode": {
    "name": "ipython",
    "version": 3
   },
   "file_extension": ".py",
   "mimetype": "text/x-python",
   "name": "python",
   "nbconvert_exporter": "python",
   "pygments_lexer": "ipython3",
   "version": "3.8.2"
  }
 },
 "nbformat": 4,
 "nbformat_minor": 5
}
