{
 "cells": [
  {
   "cell_type": "markdown",
   "id": "02b1c97a",
   "metadata": {},
   "source": [
    "# Récap du jour 3 \n",
    "\n",
    "* manipulation de dictionnaires (pour compter des mots)\n",
    "* approché les *fonctions d'ordres supérieur* avec la fonction `sorted`\n",
    "* manipulation de JSON \n",
    "* pretty print avec `pprint`\n",
    "* POO (ENFIN !)\n",
    "   * définition de types\n",
    "   * méthodes et attributs \n"
   ]
  },
  {
   "cell_type": "code",
   "execution_count": 18,
   "id": "d9e7bb81",
   "metadata": {},
   "outputs": [],
   "source": [
    "import random\n",
    "import numpy as np\n",
    "import math"
   ]
  },
  {
   "cell_type": "code",
   "execution_count": 17,
   "id": "26500656",
   "metadata": {},
   "outputs": [
    {
     "data": {
      "text/plain": [
       "[3, 2, 1]"
      ]
     },
     "execution_count": 17,
     "metadata": {},
     "output_type": "execute_result"
    }
   ],
   "source": [
    "sorted([1, 2, 3], key=lambda item: random.random())"
   ]
  },
  {
   "cell_type": "markdown",
   "id": "08b6faeb",
   "metadata": {},
   "source": [
    "# Calcul hautes performances\n",
    "\n",
    "Pour faire de la perf en Python, on utilise les bibliothèques de calcul scientifique (numpy, pandas, ...). Ou alors on utilise `Julia`"
   ]
  },
  {
   "cell_type": "code",
   "execution_count": 10,
   "id": "0adcd404",
   "metadata": {},
   "outputs": [
    {
     "name": "stdout",
     "output_type": "stream",
     "text": [
      "2.28 s ± 37.3 ms per loop (mean ± std. dev. of 7 runs, 1 loop each)\n"
     ]
    }
   ],
   "source": [
    "%%timeit\n",
    "\n",
    "a = []\n",
    "for nombre in range(10_000_000):\n",
    "    a.append(math.cos(nombre))"
   ]
  },
  {
   "cell_type": "code",
   "execution_count": 12,
   "id": "6db77c2a",
   "metadata": {},
   "outputs": [
    {
     "name": "stdout",
     "output_type": "stream",
     "text": [
      "1.56 s ± 47.1 ms per loop (mean ± std. dev. of 7 runs, 1 loop each)\n"
     ]
    }
   ],
   "source": [
    "%timeit a = list(map(math.cos, range(10_000_000)))"
   ]
  },
  {
   "cell_type": "code",
   "execution_count": 16,
   "id": "592d9054",
   "metadata": {},
   "outputs": [
    {
     "name": "stdout",
     "output_type": "stream",
     "text": [
      "150 ms ± 14.4 ms per loop (mean ± std. dev. of 7 runs, 10 loops each)\n"
     ]
    }
   ],
   "source": [
    "%timeit a = np.cos(np.arange(10_000_000))"
   ]
  },
  {
   "cell_type": "markdown",
   "id": "ddbc34d2",
   "metadata": {},
   "source": [
    "# POO"
   ]
  },
  {
   "cell_type": "code",
   "execution_count": 19,
   "id": "dce4421d",
   "metadata": {},
   "outputs": [],
   "source": [
    "class Interrupteur:\n",
    "    def __init__(self, question_lieu, etat):\n",
    "        self.question_lieu = question_lieu\n",
    "        self.etat = etat\n",
    "\n",
    "    def afficher_etat(self):\n",
    "        if self.etat == 1:\n",
    "            print(f\"la lumiere > {self.question_lieu} < est allumé(e)\")\n",
    "        elif self.etat == 0:\n",
    "            print(f\"la lumiere > {self.question_lieu} < est éteinte\")\n",
    "        else:\n",
    "            self.etat != 0 or self.etat != 1\n",
    "            print(\"Veuillez actionner le bouton, l'état doit être en 0 et 1\")\n",
    "\n",
    "    def actionner_bouton(self, etat_voulu):\n",
    "        self.etat = etat_voulu\n",
    "\n"
   ]
  },
  {
   "cell_type": "code",
   "execution_count": null,
   "id": "375280b0",
   "metadata": {},
   "outputs": [],
   "source": []
  }
 ],
 "metadata": {
  "kernelspec": {
   "display_name": "Python 3 (ipykernel)",
   "language": "python",
   "name": "python3"
  },
  "language_info": {
   "codemirror_mode": {
    "name": "ipython",
    "version": 3
   },
   "file_extension": ".py",
   "mimetype": "text/x-python",
   "name": "python",
   "nbconvert_exporter": "python",
   "pygments_lexer": "ipython3",
   "version": "3.8.2"
  }
 },
 "nbformat": 4,
 "nbformat_minor": 5
}
