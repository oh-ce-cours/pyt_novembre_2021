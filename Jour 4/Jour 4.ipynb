{
 "cells": [
  {
   "cell_type": "markdown",
   "id": "fae6a571",
   "metadata": {},
   "source": [
    "# Récap du jour 3 \n",
    "\n",
    "* manipulation de dictionnaires (pour compter des mots)\n",
    "* approché les *fonctions d'ordres supérieur* avec la fonction `sorted`\n",
    "* POO (ENFIN !)\n",
    "   * "
   ]
  },
  {
   "cell_type": "code",
   "execution_count": 3,
   "id": "37b95a82",
   "metadata": {},
   "outputs": [
    {
     "data": {
      "text/plain": [
       "[3, 2, 1]"
      ]
     },
     "execution_count": 3,
     "metadata": {},
     "output_type": "execute_result"
    }
   ],
   "source": [
    "import random\n",
    "sorted([1, 2, 3], key=lambda item: random.random())"
   ]
  },
  {
   "cell_type": "code",
   "execution_count": null,
   "id": "4a6aa623",
   "metadata": {},
   "outputs": [],
   "source": []
  }
 ],
 "metadata": {
  "kernelspec": {
   "display_name": "Python 3 (ipykernel)",
   "language": "python",
   "name": "python3"
  },
  "language_info": {
   "codemirror_mode": {
    "name": "ipython",
    "version": 3
   },
   "file_extension": ".py",
   "mimetype": "text/x-python",
   "name": "python",
   "nbconvert_exporter": "python",
   "pygments_lexer": "ipython3",
   "version": "3.8.2"
  }
 },
 "nbformat": 4,
 "nbformat_minor": 5
}
