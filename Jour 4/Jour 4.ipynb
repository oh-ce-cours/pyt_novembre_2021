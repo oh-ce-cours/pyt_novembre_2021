{
 "cells": [
  {
   "cell_type": "markdown",
   "id": "e55beff8",
   "metadata": {},
   "source": [
    "# Récap du jour 3 \n",
    "\n",
    "* manipulation de dictionnaires (pour compter des mots)\n",
    "* approché les *fonctions d'ordres supérieur* avec la fonction `sorted`\n",
    "* POO (ENFIN !)\n",
    "   * "
   ]
  },
  {
   "cell_type": "code",
   "execution_count": 3,
   "id": "1c7fc47f",
   "metadata": {},
   "outputs": [
    {
     "data": {
      "text/plain": [
       "[3, 2, 1]"
      ]
     },
     "execution_count": 3,
     "metadata": {},
     "output_type": "execute_result"
    }
   ],
   "source": [
    "import random\n",
    "sorted([1, 2, 3], key=lambda item: random.random())"
   ]
  },
  {
   "cell_type": "code",
   "execution_count": 7,
   "id": "2969f829",
   "metadata": {},
   "outputs": [],
   "source": [
    "%timeit\n",
    "\n",
    "import math\n",
    "a = []\n",
    "for nombre in range(10_000_000):\n",
    "    a.append(math.cos(nombre))"
   ]
  },
  {
   "cell_type": "code",
   "execution_count": null,
   "id": "40f50dcf",
   "metadata": {},
   "outputs": [],
   "source": [
    "\n",
    "a = list(map(math.cos, range(10_000_000))"
   ]
  }
 ],
 "metadata": {
  "kernelspec": {
   "display_name": "Python 3 (ipykernel)",
   "language": "python",
   "name": "python3"
  },
  "language_info": {
   "codemirror_mode": {
    "name": "ipython",
    "version": 3
   },
   "file_extension": ".py",
   "mimetype": "text/x-python",
   "name": "python",
   "nbconvert_exporter": "python",
   "pygments_lexer": "ipython3",
   "version": "3.8.2"
  }
 },
 "nbformat": 4,
 "nbformat_minor": 5
}
