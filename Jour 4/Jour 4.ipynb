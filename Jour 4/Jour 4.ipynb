{
 "cells": [
  {
   "cell_type": "markdown",
   "id": "02b1c97a",
   "metadata": {},
   "source": [
    "# Récap du jour 3 \n",
    "\n",
    "* manipulation de dictionnaires (pour compter des mots)\n",
    "* approché les *fonctions d'ordres supérieur* avec la fonction `sorted`\n",
    "* manipulation de JSON \n",
    "* pretty print avec `pprint`\n",
    "* POO (ENFIN !)\n",
    "   * définition de types\n",
    "   * méthodes et attributs \n"
   ]
  },
  {
   "cell_type": "code",
   "execution_count": 18,
   "id": "d9e7bb81",
   "metadata": {},
   "outputs": [],
   "source": [
    "import random\n",
    "import numpy as np\n",
    "import math"
   ]
  },
  {
   "cell_type": "code",
   "execution_count": 17,
   "id": "26500656",
   "metadata": {},
   "outputs": [
    {
     "data": {
      "text/plain": [
       "[3, 2, 1]"
      ]
     },
     "execution_count": 17,
     "metadata": {},
     "output_type": "execute_result"
    }
   ],
   "source": [
    "sorted([1, 2, 3], key=lambda item: random.random())"
   ]
  },
  {
   "cell_type": "markdown",
   "id": "08b6faeb",
   "metadata": {},
   "source": [
    "# Calcul hautes performances\n",
    "\n",
    "Pour faire de la perf en Python, on utilise les bibliothèques de calcul scientifique (numpy, pandas, ...). Ou alors on utilise `Julia`"
   ]
  },
  {
   "cell_type": "code",
   "execution_count": 10,
   "id": "0adcd404",
   "metadata": {},
   "outputs": [
    {
     "name": "stdout",
     "output_type": "stream",
     "text": [
      "2.28 s ± 37.3 ms per loop (mean ± std. dev. of 7 runs, 1 loop each)\n"
     ]
    }
   ],
   "source": [
    "%%timeit\n",
    "\n",
    "a = []\n",
    "for nombre in range(10_000_000):\n",
    "    a.append(math.cos(nombre))"
   ]
  },
  {
   "cell_type": "code",
   "execution_count": 12,
   "id": "6db77c2a",
   "metadata": {},
   "outputs": [
    {
     "name": "stdout",
     "output_type": "stream",
     "text": [
      "1.56 s ± 47.1 ms per loop (mean ± std. dev. of 7 runs, 1 loop each)\n"
     ]
    }
   ],
   "source": [
    "%timeit a = list(map(math.cos, range(10_000_000)))"
   ]
  },
  {
   "cell_type": "code",
   "execution_count": 16,
   "id": "592d9054",
   "metadata": {},
   "outputs": [
    {
     "name": "stdout",
     "output_type": "stream",
     "text": [
      "150 ms ± 14.4 ms per loop (mean ± std. dev. of 7 runs, 10 loops each)\n"
     ]
    }
   ],
   "source": [
    "%timeit a = np.cos(np.arange(10_000_000))"
   ]
  },
  {
   "cell_type": "markdown",
   "id": "010fe7ef",
   "metadata": {},
   "source": [
    "# POO"
   ]
  },
  {
   "cell_type": "code",
   "execution_count": 19,
   "id": "ef657d57",
   "metadata": {},
   "outputs": [],
   "source": [
    "class Interrupteur:\n",
    "    def __init__(self, question_lieu, etat):\n",
    "        self.question_lieu = question_lieu\n",
    "        self.etat = etat\n",
    "\n",
    "    def afficher_etat(self):\n",
    "        if self.etat == 1:\n",
    "            print(f\"la lumiere > {self.question_lieu} < est allumé(e)\")\n",
    "        elif self.etat == 0:\n",
    "            print(f\"la lumiere > {self.question_lieu} < est éteinte\")\n",
    "        else:\n",
    "            self.etat != 0 or self.etat != 1\n",
    "            print(\"Veuillez actionner le bouton, l'état doit être en 0 et 1\")\n",
    "\n",
    "    def actionner_bouton(self, etat_voulu):\n",
    "        self.etat = etat_voulu\n",
    "\n"
   ]
  },
  {
   "cell_type": "code",
   "execution_count": 47,
   "id": "4121fe26",
   "metadata": {},
   "outputs": [
    {
     "name": "stdout",
     "output_type": "stream",
     "text": [
      "<__main__.Interrupteur object at 0x00000259995B4520>\n"
     ]
    }
   ],
   "source": [
    "i  = Interrupteur(0, 1)\n",
    "dir(i)\n",
    "i.trroolo = \"toto\"\n",
    "dir(i)\n",
    "print(i)"
   ]
  },
  {
   "cell_type": "code",
   "execution_count": 46,
   "id": "81544654",
   "metadata": {},
   "outputs": [
    {
     "name": "stdout",
     "output_type": "stream",
     "text": [
      "dans voiture\n",
      "dans vehicule\n"
     ]
    },
    {
     "ename": "ZeroDivisionError",
     "evalue": "Un vehicule, doit avoir un moteur",
     "output_type": "error",
     "traceback": [
      "\u001b[1;31m---------------------------------------------------------------------------\u001b[0m",
      "\u001b[1;31mZeroDivisionError\u001b[0m                         Traceback (most recent call last)",
      "\u001b[1;32m~\\AppData\\Local\\Temp/ipykernel_21360/3582975330.py\u001b[0m in \u001b[0;36m<module>\u001b[1;34m\u001b[0m\n\u001b[0;32m     32\u001b[0m \u001b[1;33m\u001b[0m\u001b[0m\n\u001b[0;32m     33\u001b[0m \u001b[1;32mtry\u001b[0m\u001b[1;33m:\u001b[0m\u001b[1;33m\u001b[0m\u001b[1;33m\u001b[0m\u001b[0m\n\u001b[1;32m---> 34\u001b[1;33m     \u001b[0mma_voiture\u001b[0m \u001b[1;33m=\u001b[0m \u001b[0mVoiture\u001b[0m\u001b[1;33m(\u001b[0m\u001b[1;33m)\u001b[0m\u001b[1;33m\u001b[0m\u001b[1;33m\u001b[0m\u001b[0m\n\u001b[0m\u001b[0;32m     35\u001b[0m \u001b[1;32mexcept\u001b[0m \u001b[0mAttributeError\u001b[0m\u001b[1;33m:\u001b[0m\u001b[1;33m\u001b[0m\u001b[1;33m\u001b[0m\u001b[0m\n\u001b[0;32m     36\u001b[0m     \u001b[0mprint\u001b[0m\u001b[1;33m(\u001b[0m\u001b[1;34m\"c'est cassé\"\u001b[0m\u001b[1;33m)\u001b[0m\u001b[1;33m\u001b[0m\u001b[1;33m\u001b[0m\u001b[0m\n",
      "\u001b[1;32m~\\AppData\\Local\\Temp/ipykernel_21360/3582975330.py\u001b[0m in \u001b[0;36m__init__\u001b[1;34m(self)\u001b[0m\n\u001b[0;32m     28\u001b[0m         \u001b[0mprint\u001b[0m\u001b[1;33m(\u001b[0m\u001b[1;34m\"dans voiture\"\u001b[0m\u001b[1;33m)\u001b[0m\u001b[1;33m\u001b[0m\u001b[1;33m\u001b[0m\u001b[0m\n\u001b[0;32m     29\u001b[0m         \u001b[1;31m#self.moteur = MoteurElectrique()\u001b[0m\u001b[1;33m\u001b[0m\u001b[1;33m\u001b[0m\u001b[1;33m\u001b[0m\u001b[0m\n\u001b[1;32m---> 30\u001b[1;33m         \u001b[0msuper\u001b[0m\u001b[1;33m(\u001b[0m\u001b[1;33m)\u001b[0m\u001b[1;33m.\u001b[0m\u001b[0m__init__\u001b[0m\u001b[1;33m(\u001b[0m\u001b[1;33m)\u001b[0m\u001b[1;33m\u001b[0m\u001b[1;33m\u001b[0m\u001b[0m\n\u001b[0m\u001b[0;32m     31\u001b[0m \u001b[1;33m\u001b[0m\u001b[0m\n\u001b[0;32m     32\u001b[0m \u001b[1;33m\u001b[0m\u001b[0m\n",
      "\u001b[1;32m~\\AppData\\Local\\Temp/ipykernel_21360/3582975330.py\u001b[0m in \u001b[0;36m__init__\u001b[1;34m(self)\u001b[0m\n\u001b[0;32m      3\u001b[0m         \u001b[0mprint\u001b[0m\u001b[1;33m(\u001b[0m\u001b[1;34m\"dans vehicule\"\u001b[0m\u001b[1;33m)\u001b[0m\u001b[1;33m\u001b[0m\u001b[1;33m\u001b[0m\u001b[0m\n\u001b[0;32m      4\u001b[0m         \u001b[1;32mif\u001b[0m \u001b[1;32mnot\u001b[0m \u001b[0mhasattr\u001b[0m\u001b[1;33m(\u001b[0m\u001b[0mself\u001b[0m\u001b[1;33m,\u001b[0m \u001b[1;34m\"moteur\"\u001b[0m\u001b[1;33m)\u001b[0m\u001b[1;33m:\u001b[0m\u001b[1;33m\u001b[0m\u001b[1;33m\u001b[0m\u001b[0m\n\u001b[1;32m----> 5\u001b[1;33m             \u001b[1;32mraise\u001b[0m \u001b[0mZeroDivisionError\u001b[0m\u001b[1;33m(\u001b[0m\u001b[1;34m\"Un vehicule, doit avoir un moteur\"\u001b[0m\u001b[1;33m)\u001b[0m\u001b[1;33m\u001b[0m\u001b[1;33m\u001b[0m\u001b[0m\n\u001b[0m\u001b[0;32m      6\u001b[0m \u001b[1;33m\u001b[0m\u001b[0m\n\u001b[0;32m      7\u001b[0m     \u001b[1;32mdef\u001b[0m \u001b[0mse_deplacer\u001b[0m\u001b[1;33m(\u001b[0m\u001b[0mself\u001b[0m\u001b[1;33m)\u001b[0m\u001b[1;33m:\u001b[0m\u001b[1;33m\u001b[0m\u001b[1;33m\u001b[0m\u001b[0m\n",
      "\u001b[1;31mZeroDivisionError\u001b[0m: Un vehicule, doit avoir un moteur"
     ]
    }
   ],
   "source": [
    "class Vehicule():\n",
    "    def __init__(self):\n",
    "        print(\"dans vehicule\")\n",
    "        if not hasattr(self, \"moteur\"):\n",
    "            raise ZeroDivisionError(\"Un vehicule, doit avoir un moteur\")\n",
    "    \n",
    "    def se_deplacer(self):\n",
    "        print(self.moteur.categorie)\n",
    "        print(self.moteur.bruit)\n",
    "\n",
    "class MoteurThermique():\n",
    "    def __init__(self):\n",
    "        self.nom = \"V11 turbo\"\n",
    "        self.categorie = \"thermique\"\n",
    "        self.bruit = \"VROOOOOOOOOMMMMMMM\"\n",
    "\n",
    "class MoteurElectrique():\n",
    "    def __init__(self):\n",
    "        self.nom = \"synchrone\"\n",
    "        self.categorie = \"electrique\"\n",
    "        self.bruit = \"chuuuuuuuuuuuuu\"\n",
    "        \n",
    "        \n",
    "\n",
    "        \n",
    "class Voiture(Vehicule):\n",
    "    def __init__(self):\n",
    "        print(\"dans voiture\")\n",
    "        #self.moteur = MoteurElectrique()\n",
    "        super().__init__()\n",
    "\n",
    "\n",
    "try:\n",
    "    ma_voiture = Voiture()\n",
    "except AttributeError:\n",
    "    print(\"c'est cassé\")\n",
    "else:\n",
    "    print(ma_voiture.moteur.nom)\n",
    "    ma_voiture.se_deplacer()\n",
    "\n"
   ]
  },
  {
   "cell_type": "code",
   "execution_count": 42,
   "id": "04eb27bb",
   "metadata": {},
   "outputs": [],
   "source": [
    "del ma_voiture"
   ]
  },
  {
   "cell_type": "code",
   "execution_count": null,
   "id": "98062bdc",
   "metadata": {},
   "outputs": [],
   "source": []
  }
 ],
 "metadata": {
  "kernelspec": {
   "display_name": "Python 3 (ipykernel)",
   "language": "python",
   "name": "python3"
  },
  "language_info": {
   "codemirror_mode": {
    "name": "ipython",
    "version": 3
   },
   "file_extension": ".py",
   "mimetype": "text/x-python",
   "name": "python",
   "nbconvert_exporter": "python",
   "pygments_lexer": "ipython3",
   "version": "3.8.2"
  }
 },
 "nbformat": 4,
 "nbformat_minor": 5
}
