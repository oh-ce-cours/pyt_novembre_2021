{
 "cells": [
  {
   "cell_type": "markdown",
   "id": "80a85003",
   "metadata": {},
   "source": [
    "# Récaptitulatif du jour 4\n",
    "\n",
    "* POO \n",
    "   * différents types de méthodes (méthodes d'instances, méthodes de classes, méthodes statiques)\n",
    "   * méthodes magiques (__init__ et __str__ / __repr__, __del__)\n",
    "* __name__ : \n",
    "* types de données : `sets`"
   ]
  },
  {
   "cell_type": "markdown",
   "id": "8ce90437",
   "metadata": {},
   "source": [
    "# Set et fonction de hashage"
   ]
  },
  {
   "cell_type": "code",
   "execution_count": 2,
   "id": "519271fd",
   "metadata": {},
   "outputs": [
    {
     "data": {
      "text/plain": [
       "('2', '2')"
      ]
     },
     "execution_count": 2,
     "metadata": {},
     "output_type": "execute_result"
    }
   ],
   "source": [
    "str(2), repr(2)"
   ]
  },
  {
   "cell_type": "code",
   "execution_count": null,
   "id": "7455eb26",
   "metadata": {},
   "outputs": [],
   "source": []
  }
 ],
 "metadata": {
  "kernelspec": {
   "display_name": "Python 3 (ipykernel)",
   "language": "python",
   "name": "python3"
  },
  "language_info": {
   "codemirror_mode": {
    "name": "ipython",
    "version": 3
   },
   "file_extension": ".py",
   "mimetype": "text/x-python",
   "name": "python",
   "nbconvert_exporter": "python",
   "pygments_lexer": "ipython3",
   "version": "3.8.2"
  }
 },
 "nbformat": 4,
 "nbformat_minor": 5
}
