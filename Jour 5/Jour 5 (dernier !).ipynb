{
 "cells": [
  {
   "cell_type": "markdown",
   "id": "37f481ed",
   "metadata": {},
   "source": [
    "# Récaptitulatif du jour 4\n",
    "\n",
    "* POO \n",
    "   * différents types de méthodes (méthodes d'instances, méthodes de classes, méthodes statiques)\n",
    "   * méthodes magiques (`__init__` et `__str__` / `__repr__`, `__del__`)\n",
    "   * héritage (relation *est un*) / composition (relation *possède un*) \n",
    "   * *UML* : des dessins pour mieux réflechir en OOP\n",
    "* `__name__` : avoir un contexte différent selon si l'on importe le fichier ou on le lance directement avec l'intepréteur\n",
    "* types de données : `sets`\n",
    "   * permet de modéliser facilement des ensembles d'éléments uniques\n",
    "* TDD : *Test Driven Developement* (on teste avant d'écrire le code que l'on teste)"
   ]
  },
  {
   "cell_type": "markdown",
   "id": "1d4ac053",
   "metadata": {},
   "source": [
    "# Set et fonction de hashage\n",
    "\n"
   ]
  },
  {
   "cell_type": "code",
   "execution_count": 11,
   "id": "46bdf2ce",
   "metadata": {},
   "outputs": [
    {
     "data": {
      "text/plain": [
       "(1, -4340340635160178869, 7071290069081943603, 691752902764107778)"
      ]
     },
     "execution_count": 11,
     "metadata": {},
     "output_type": "execute_result"
    }
   ],
   "source": [
    "hash(1), hash(\"toto\"), hash(\"tata\"), hash(2.3)"
   ]
  },
  {
   "cell_type": "code",
   "execution_count": 14,
   "id": "3a011f35",
   "metadata": {},
   "outputs": [
    {
     "data": {
      "text/plain": [
       "1"
      ]
     },
     "execution_count": 14,
     "metadata": {},
     "output_type": "execute_result"
    }
   ],
   "source": [
    "nombre_elements = 10\n",
    "protection = 3\n",
    "mon_faux_dict = [None for ]\n",
    "hash(\"toto\") % (nombre_elements + protection)"
   ]
  },
  {
   "cell_type": "markdown",
   "id": "d80628a5",
   "metadata": {},
   "source": [
    "# Mesures de performances \n",
    "\n",
    "C'est mieux d'utiliser la commande magique de jupyter / ipython : `%timeit`"
   ]
  },
  {
   "cell_type": "code",
   "execution_count": 3,
   "id": "b3e3b62b",
   "metadata": {},
   "outputs": [],
   "source": [
    "import time"
   ]
  },
  {
   "cell_type": "code",
   "execution_count": 5,
   "id": "1ddb1dd2",
   "metadata": {},
   "outputs": [
    {
     "name": "stdout",
     "output_type": "stream",
     "text": [
      "2.457287311553955\n"
     ]
    }
   ],
   "source": [
    "tic = time.time()\n",
    "res  = \"\"\n",
    "for i in range(1_000_000):\n",
    "    res += str(i)\n",
    "print(time.time() - tic)"
   ]
  },
  {
   "cell_type": "code",
   "execution_count": 6,
   "id": "0dfaf9da",
   "metadata": {},
   "outputs": [
    {
     "data": {
      "text/plain": [
       "1637914915.902401"
      ]
     },
     "execution_count": 6,
     "metadata": {},
     "output_type": "execute_result"
    }
   ],
   "source": [
    "tic"
   ]
  },
  {
   "cell_type": "code",
   "execution_count": null,
   "id": "be28ca37",
   "metadata": {},
   "outputs": [],
   "source": []
  }
 ],
 "metadata": {
  "kernelspec": {
   "display_name": "Python 3 (ipykernel)",
   "language": "python",
   "name": "python3"
  },
  "language_info": {
   "codemirror_mode": {
    "name": "ipython",
    "version": 3
   },
   "file_extension": ".py",
   "mimetype": "text/x-python",
   "name": "python",
   "nbconvert_exporter": "python",
   "pygments_lexer": "ipython3",
   "version": "3.8.2"
  }
 },
 "nbformat": 4,
 "nbformat_minor": 5
}
