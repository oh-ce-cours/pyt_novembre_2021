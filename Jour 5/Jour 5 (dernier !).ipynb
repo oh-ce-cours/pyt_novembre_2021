{
 "cells": [
  {
   "cell_type": "markdown",
   "id": "20f5d201",
   "metadata": {},
   "source": [
    "# Récaptitulatif du jour 4\n",
    "\n",
    "* POO \n",
    "   * différents types de méthodes (méthodes d'instances, méthodes de classes, méthodes statiques)\n",
    "   * méthodes magiques (`__init__` et `__str__` / `__repr__`, `__del__`)\n",
    "   * héritage (relation *est un*) / composition (relation *possède un*) \n",
    "   * *UML* : des dessins pour mieux réflechir en OOP\n",
    "* `__name__` : avoir un contexte différent selon si l'on importe le fichier ou on le lance directement avec l'intepréteur\n",
    "* types de données : `sets`\n",
    "   * permet de modéliser facilement des ensembles d'éléments uniques\n",
    "* TDD : *Test Driven Developement* (on teste avant d'écrire le code que l'on teste)"
   ]
  },
  {
   "cell_type": "markdown",
   "id": "3b273950",
   "metadata": {},
   "source": [
    "# Set et fonction de hashage\n",
    "\n"
   ]
  },
  {
   "cell_type": "code",
   "execution_count": 11,
   "id": "f6ba1304",
   "metadata": {},
   "outputs": [
    {
     "data": {
      "text/plain": [
       "(1, -4340340635160178869, 7071290069081943603, 691752902764107778)"
      ]
     },
     "execution_count": 11,
     "metadata": {},
     "output_type": "execute_result"
    }
   ],
   "source": [
    "hash(1), hash(\"toto\"), hash(\"tata\"), hash(2.3)"
   ]
  },
  {
   "cell_type": "code",
   "execution_count": 21,
   "id": "30514e44",
   "metadata": {},
   "outputs": [
    {
     "name": "stdout",
     "output_type": "stream",
     "text": [
      "[None, 'toto', None, None, None, None, None, None, None, None, None, None, None]\n",
      "[None, 'toto', None, None, None, None, None, None, None, None, 3.2, None, None]\n"
     ]
    }
   ],
   "source": [
    "variable_a_stocker = \"toto\"\n",
    "variable_a_stocker_2  = 3.2\n",
    "nombre_elements = 10\n",
    "protection = 3\n",
    "mon_faux_dict = [None for i in range(nombre_elements + protection)]\n",
    "\n",
    "index = hash(variable_a_stocker) % (nombre_elements + protection)\n",
    "mon_faux_dict[index] = variable_a_stocker\n",
    "\n",
    "print(mon_faux_dict)\n",
    "\n",
    "index = hash(variable_a_stocker_2) % (nombre_elements + protection)\n",
    "mon_faux_dict[index] = variable_a_stocker_2\n",
    "print(mon_faux_dict)"
   ]
  },
  {
   "cell_type": "markdown",
   "id": "000d2e65",
   "metadata": {},
   "source": [
    "# Mesures de performances \n",
    "\n",
    "C'est mieux d'utiliser la commande magique de jupyter / ipython : `%timeit`"
   ]
  },
  {
   "cell_type": "code",
   "execution_count": 3,
   "id": "89f1c958",
   "metadata": {},
   "outputs": [],
   "source": [
    "import time"
   ]
  },
  {
   "cell_type": "code",
   "execution_count": 5,
   "id": "0dcb3467",
   "metadata": {},
   "outputs": [
    {
     "name": "stdout",
     "output_type": "stream",
     "text": [
      "2.457287311553955\n"
     ]
    }
   ],
   "source": [
    "tic = time.time()\n",
    "res  = \"\"\n",
    "for i in range(1_000_000):\n",
    "    res += str(i)\n",
    "print(time.time() - tic)"
   ]
  },
  {
   "cell_type": "code",
   "execution_count": 6,
   "id": "6e4531a0",
   "metadata": {},
   "outputs": [
    {
     "data": {
      "text/plain": [
       "1637914915.902401"
      ]
     },
     "execution_count": 6,
     "metadata": {},
     "output_type": "execute_result"
    }
   ],
   "source": [
    "tic"
   ]
  },
  {
   "cell_type": "markdown",
   "id": "688caa70",
   "metadata": {},
   "source": [
    "# Exercice \n",
    "\n",
    "* Regarder si l'on peut hasher des objets que l'on crée nous-même\n",
    "* Peut-on les stocker dans un dictionnaire ? \n",
    "* Comment faire ? "
   ]
  },
  {
   "cell_type": "code",
   "execution_count": 23,
   "id": "3c9e491d",
   "metadata": {},
   "outputs": [
    {
     "name": "stdout",
     "output_type": "stream",
     "text": [
      "\n",
      "hash(p1:Je m'appelle Machine né en 1986)=165233534910\n",
      "hash(p2:Je m'appelle Machin né en 1986)=165233534949\n",
      "hash(p3:Je m'appelle Machin né en 1986)=165233055251\n",
      "\n",
      "Dictionnaire des 3 objets: {<__main__.ObjetDeTest object at 0x000002678AFA7BE0>: 'Machine', <__main__.ObjetDeTest object at 0x000002678AFA7E50>: 'Machin', <__main__.ObjetDeTest object at 0x000002678A856130>: 'Machin2'}\n"
     ]
    }
   ],
   "source": [
    " \n",
    "\n",
    " \n",
    "\n",
    " \n",
    "\n",
    " \n",
    "\n",
    " \n",
    "\n",
    " \n",
    "\n",
    " \n",
    "\n",
    " \n",
    "\n",
    " \n",
    "\n",
    " \n",
    "\n",
    " \n",
    "\n",
    " \n",
    "\n",
    " \n",
    "\n",
    " \n",
    "\n",
    " \n",
    "\n",
    " \n",
    "\n",
    " \n",
    "\n",
    " \n",
    "\n",
    " \n",
    "\n",
    " \n",
    "\n",
    " \n",
    "\n",
    "class ObjetDeTest:\n",
    "    def __init__(self, naissance, nom):\n",
    "        self.naissance = naissance\n",
    "        self.nom = nom\n",
    "\n",
    "    def __str__(self):\n",
    "        return f\"Je m'appelle {self.nom} né en {self.naissance}\"\n",
    "\n",
    "\"\"\"\n",
    "    def __hash__(self):\n",
    "        return hash(str(self.naissance) + self.nom)\n",
    "\n",
    "    def __eq__(self, other):\n",
    "        return self.naissance == other.naissance and self.nom == self.nom\n",
    "\"\"\"\n",
    "\n",
    "if __name__ == \"__main__\":\n",
    "    p1 = ObjetDeTest(1986, \"Machine\")\n",
    "    p2 = ObjetDeTest(1986, \"Machin\")\n",
    "    p3 = ObjetDeTest(1986, \"Machin\")\n",
    "    print(f\"\\nhash(p1:{p1})={hash(p1)}\")\n",
    "    print(f\"hash(p2:{p2})={hash(p2)}\")\n",
    "    print(f\"hash(p3:{p2})={hash(p3)}\\n\")\n",
    "\n",
    "    dict = {p1: \"Machine\", p2: \"Machin\", p3: \"Machin2\"}\n",
    "    print(\"Dictionnaire des 3 objets:\", dict)\n"
   ]
  },
  {
   "cell_type": "code",
   "execution_count": null,
   "id": "96369dc9",
   "metadata": {},
   "outputs": [],
   "source": []
  }
 ],
 "metadata": {
  "kernelspec": {
   "display_name": "Python 3 (ipykernel)",
   "language": "python",
   "name": "python3"
  },
  "language_info": {
   "codemirror_mode": {
    "name": "ipython",
    "version": 3
   },
   "file_extension": ".py",
   "mimetype": "text/x-python",
   "name": "python",
   "nbconvert_exporter": "python",
   "pygments_lexer": "ipython3",
   "version": "3.8.2"
  }
 },
 "nbformat": 4,
 "nbformat_minor": 5
}
