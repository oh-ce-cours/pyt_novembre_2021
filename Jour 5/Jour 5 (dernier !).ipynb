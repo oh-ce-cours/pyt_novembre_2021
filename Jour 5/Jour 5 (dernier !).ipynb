{
 "cells": [
  {
   "cell_type": "markdown",
   "id": "378a0a2f",
   "metadata": {},
   "source": [
    "# Récaptitulatif du jour 4\n",
    "\n",
    "* POO \n",
    "   * différents types de méthodes (méthodes d'instances, méthodes de classes, méthodes statiques)\n",
    "   * méthodes magiques (`__init__` et `__str__` / `__repr__`, `__del__`)\n",
    "   * héritage (relation *est un*) / composition (relation *possède un*) \n",
    "   * *UML* : des dessins pour mieux réflechir en OOP\n",
    "* `__name__` : avoir un contexte différent selon si l'on importe le fichier ou on le lance directement avec l'intepréteur\n",
    "* types de données : `sets`\n",
    "* TDD : *Test Driven Developement* (on teste avant d'écrire le code que l'on teste)"
   ]
  },
  {
   "cell_type": "markdown",
   "id": "eb1e0447",
   "metadata": {},
   "source": [
    "# Set et fonction de hashage"
   ]
  },
  {
   "cell_type": "code",
   "execution_count": 2,
   "id": "39a18b1f",
   "metadata": {},
   "outputs": [
    {
     "data": {
      "text/plain": [
       "('2', '2')"
      ]
     },
     "execution_count": 2,
     "metadata": {},
     "output_type": "execute_result"
    }
   ],
   "source": [
    "str(2), repr(2)"
   ]
  },
  {
   "cell_type": "code",
   "execution_count": 3,
   "id": "5824309b",
   "metadata": {},
   "outputs": [],
   "source": [
    "import time"
   ]
  },
  {
   "cell_type": "code",
   "execution_count": 4,
   "id": "0082c56d",
   "metadata": {},
   "outputs": [
    {
     "name": "stdout",
     "output_type": "stream",
     "text": [
      "0.0\n"
     ]
    }
   ],
   "source": [
    "tic = time.time()\n",
    "for i in range(1)\n",
    "print(time.time() - tic)"
   ]
  },
  {
   "cell_type": "code",
   "execution_count": null,
   "id": "fd07fb60",
   "metadata": {},
   "outputs": [],
   "source": []
  }
 ],
 "metadata": {
  "kernelspec": {
   "display_name": "Python 3 (ipykernel)",
   "language": "python",
   "name": "python3"
  },
  "language_info": {
   "codemirror_mode": {
    "name": "ipython",
    "version": 3
   },
   "file_extension": ".py",
   "mimetype": "text/x-python",
   "name": "python",
   "nbconvert_exporter": "python",
   "pygments_lexer": "ipython3",
   "version": "3.8.2"
  }
 },
 "nbformat": 4,
 "nbformat_minor": 5
}
