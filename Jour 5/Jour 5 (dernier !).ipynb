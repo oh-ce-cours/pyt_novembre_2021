{
 "cells": [
  {
   "cell_type": "markdown",
   "id": "876e2e18",
   "metadata": {},
   "source": [
    "# Récaptitulatif du jour 4\n",
    "\n",
    "* POO \n",
    "   * différents types de méthodes (méthodes d'instances, méthodes de classes, méthodes statiques)\n",
    "   * méthodes magiques (`__init__` et `__str__` / `__repr__`, `__del__`)\n",
    "   * héritage (relation *est un*) / composition (relation *possède un*) \n",
    "   * *UML* : des dessins pour mieux réflechir en OOP\n",
    "* `__name__` : avoir un contexte différent selon si l'on importe le fichier ou on le lance directement avec l'intepréteur\n",
    "* types de données : `sets`\n",
    "   * permet de modéliser facilement des ensembles d'éléments uniques\n",
    "* TDD : *Test Driven Developement* (on teste avant d'écrire le code que l'on teste)"
   ]
  },
  {
   "cell_type": "markdown",
   "id": "fb0c1003",
   "metadata": {},
   "source": [
    "# Set et fonction de hashage\n",
    "\n"
   ]
  },
  {
   "cell_type": "code",
   "execution_count": null,
   "id": "07a06fc4",
   "metadata": {},
   "outputs": [],
   "source": []
  },
  {
   "cell_type": "markdown",
   "id": "05ea0594",
   "metadata": {},
   "source": [
    "# Mesures de performances \n",
    "\n",
    "C'est mieux d'utiliser la commande magique de jupyter / ipython : `%timeit`"
   ]
  },
  {
   "cell_type": "code",
   "execution_count": 3,
   "id": "a72d5431",
   "metadata": {},
   "outputs": [],
   "source": [
    "import time"
   ]
  },
  {
   "cell_type": "code",
   "execution_count": 5,
   "id": "a5ca6e6e",
   "metadata": {},
   "outputs": [
    {
     "name": "stdout",
     "output_type": "stream",
     "text": [
      "2.457287311553955\n"
     ]
    }
   ],
   "source": [
    "tic = time.time()\n",
    "res  = \"\"\n",
    "for i in range(1_000_000):\n",
    "    res += str(i)\n",
    "print(time.time() - tic)"
   ]
  },
  {
   "cell_type": "code",
   "execution_count": 6,
   "id": "a2770fc0",
   "metadata": {},
   "outputs": [
    {
     "data": {
      "text/plain": [
       "1637914915.902401"
      ]
     },
     "execution_count": 6,
     "metadata": {},
     "output_type": "execute_result"
    }
   ],
   "source": [
    "tic"
   ]
  },
  {
   "cell_type": "code",
   "execution_count": null,
   "id": "147ed0fc",
   "metadata": {},
   "outputs": [],
   "source": []
  }
 ],
 "metadata": {
  "kernelspec": {
   "display_name": "Python 3 (ipykernel)",
   "language": "python",
   "name": "python3"
  },
  "language_info": {
   "codemirror_mode": {
    "name": "ipython",
    "version": 3
   },
   "file_extension": ".py",
   "mimetype": "text/x-python",
   "name": "python",
   "nbconvert_exporter": "python",
   "pygments_lexer": "ipython3",
   "version": "3.8.2"
  }
 },
 "nbformat": 4,
 "nbformat_minor": 5
}
