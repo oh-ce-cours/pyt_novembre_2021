{
 "cells": [
  {
   "cell_type": "markdown",
   "id": "c6cf5591",
   "metadata": {},
   "source": [
    "# Récaptitulatif du jour 4\n",
    "\n",
    "* POO \n",
    "   * différents types de méthodes (méthodes d'instances, méthodes de classes, méthodes statiques)\n",
    "   * méthodes magiques (`__init__` et `__str__` / `__repr__`, `__del__`)\n",
    "   * héritage (relation *est un*) / composition (relation *possède un*) \n",
    "   * *UML* : des dessins pour mieux réflechir en OOP\n",
    "* `__name__` : avoir un contexte différent selon si l'on importe le fichier ou on le lance directement avec l'intepréteur\n",
    "* types de données : `sets`\n",
    "   * permet de modéliser facilement des ensembles d'éléments uniques\n",
    "* TDD : *Test Driven Developement* (on teste avant d'écrire le code que l'on teste)"
   ]
  },
  {
   "cell_type": "markdown",
   "id": "8b62ad73",
   "metadata": {},
   "source": [
    "# Set et fonction de hashage\n",
    "\n"
   ]
  },
  {
   "cell_type": "code",
   "execution_count": 11,
   "id": "ff5640bb",
   "metadata": {},
   "outputs": [
    {
     "data": {
      "text/plain": [
       "(1, -4340340635160178869, 7071290069081943603, 691752902764107778)"
      ]
     },
     "execution_count": 11,
     "metadata": {},
     "output_type": "execute_result"
    }
   ],
   "source": [
    "hash(1), hash(\"toto\"), hash(\"tata\"), hash(2.3)"
   ]
  },
  {
   "cell_type": "code",
   "execution_count": 21,
   "id": "f4883329",
   "metadata": {},
   "outputs": [
    {
     "name": "stdout",
     "output_type": "stream",
     "text": [
      "[None, 'toto', None, None, None, None, None, None, None, None, None, None, None]\n",
      "[None, 'toto', None, None, None, None, None, None, None, None, 3.2, None, None]\n"
     ]
    }
   ],
   "source": [
    "variable_a_stocker = \"toto\"\n",
    "variable_a_stocker_2  = 3.2\n",
    "nombre_elements = 10\n",
    "protection = 3\n",
    "mon_faux_dict = [None for i in range(nombre_elements + protection)]\n",
    "\n",
    "index = hash(variable_a_stocker) % (nombre_elements + protection)\n",
    "mon_faux_dict[index] = variable_a_stocker\n",
    "\n",
    "print(mon_faux_dict)\n",
    "\n",
    "index = hash(variable_a_stocker_2) % (nombre_elements + protection)\n",
    "mon_faux_dict[index] = variable_a_stocker_2\n",
    "print(mon_faux_dict)"
   ]
  },
  {
   "cell_type": "markdown",
   "id": "b9a91316",
   "metadata": {},
   "source": [
    "# Mesures de performances \n",
    "\n",
    "C'est mieux d'utiliser la commande magique de jupyter / ipython : `%timeit`"
   ]
  },
  {
   "cell_type": "code",
   "execution_count": 3,
   "id": "da6f4b56",
   "metadata": {},
   "outputs": [],
   "source": [
    "import time"
   ]
  },
  {
   "cell_type": "code",
   "execution_count": 5,
   "id": "ea9bf916",
   "metadata": {},
   "outputs": [
    {
     "name": "stdout",
     "output_type": "stream",
     "text": [
      "2.457287311553955\n"
     ]
    }
   ],
   "source": [
    "tic = time.time()\n",
    "res  = \"\"\n",
    "for i in range(1_000_000):\n",
    "    res += str(i)\n",
    "print(time.time() - tic)"
   ]
  },
  {
   "cell_type": "code",
   "execution_count": 6,
   "id": "e0f6a817",
   "metadata": {},
   "outputs": [
    {
     "data": {
      "text/plain": [
       "1637914915.902401"
      ]
     },
     "execution_count": 6,
     "metadata": {},
     "output_type": "execute_result"
    }
   ],
   "source": [
    "tic"
   ]
  },
  {
   "cell_type": "markdown",
   "id": "0415e752",
   "metadata": {},
   "source": [
    "# Exercice \n",
    "\n",
    "* Regarder si l'on peut hasher des objets que l'on crée nous-même\n",
    "* Peut-on les stocker dans un dictionnaire ? \n",
    "* Comment faire ? "
   ]
  },
  {
   "cell_type": "code",
   "execution_count": 37,
   "id": "ab448897",
   "metadata": {},
   "outputs": [
    {
     "name": "stdout",
     "output_type": "stream",
     "text": [
      "False\n",
      "True\n"
     ]
    },
    {
     "ename": "TypeError",
     "evalue": "unhashable type: 'ObjetDeTest'",
     "output_type": "error",
     "traceback": [
      "\u001b[1;31m---------------------------------------------------------------------------\u001b[0m",
      "\u001b[1;31mTypeError\u001b[0m                                 Traceback (most recent call last)",
      "\u001b[1;32m~\\AppData\\Local\\Temp/ipykernel_23520/2838894985.py\u001b[0m in \u001b[0;36m<module>\u001b[1;34m\u001b[0m\n\u001b[0;32m     30\u001b[0m     \u001b[1;31m#print(f\"hash(p3:{p2})={hash(p3)}\\n\")\u001b[0m\u001b[1;33m\u001b[0m\u001b[1;33m\u001b[0m\u001b[1;33m\u001b[0m\u001b[0m\n\u001b[0;32m     31\u001b[0m \u001b[1;33m\u001b[0m\u001b[0m\n\u001b[1;32m---> 32\u001b[1;33m     \u001b[0mmachine_dict\u001b[0m \u001b[1;33m=\u001b[0m \u001b[1;33m{\u001b[0m\u001b[0mp1\u001b[0m\u001b[1;33m:\u001b[0m \u001b[1;34m\"Machine\"\u001b[0m\u001b[1;33m,\u001b[0m \u001b[0mp2\u001b[0m\u001b[1;33m:\u001b[0m \u001b[1;34m\"Machin\"\u001b[0m\u001b[1;33m,\u001b[0m \u001b[0mp3\u001b[0m\u001b[1;33m:\u001b[0m \u001b[1;34m\"Machin2\"\u001b[0m\u001b[1;33m}\u001b[0m\u001b[1;33m\u001b[0m\u001b[1;33m\u001b[0m\u001b[0m\n\u001b[0m\u001b[0;32m     33\u001b[0m     \u001b[0mprint\u001b[0m\u001b[1;33m(\u001b[0m\u001b[1;34mf\"Dictionnaire des {len(dict)} objets:\"\u001b[0m\u001b[1;33m,\u001b[0m \u001b[0mmachine_dict\u001b[0m\u001b[1;33m)\u001b[0m\u001b[1;33m\u001b[0m\u001b[1;33m\u001b[0m\u001b[0m\n",
      "\u001b[1;31mTypeError\u001b[0m: unhashable type: 'ObjetDeTest'"
     ]
    }
   ],
   "source": [
    " \n",
    "\n",
    " \n",
    "\n",
    " \n",
    "\n",
    " \n",
    "\n",
    " \n",
    "\n",
    " \n",
    "\n",
    " \n",
    "\n",
    " \n",
    "\n",
    " \n",
    "\n",
    " \n",
    "\n",
    " \n",
    "\n",
    " \n",
    "\n",
    " \n",
    "\n",
    " \n",
    "\n",
    " \n",
    "\n",
    " \n",
    "\n",
    " \n",
    "\n",
    " \n",
    "\n",
    " \n",
    "\n",
    " \n",
    "\n",
    " \n",
    "\n",
    "class ObjetDeTest:\n",
    "    def __init__(self, naissance, nom):\n",
    "        self.naissance = naissance\n",
    "        self.nom = nom\n",
    "\n",
    "    def __str__(self):\n",
    "        return f\"Je m'appelle {self.nom} né en {self.naissance}\"\n",
    "\n",
    "    def __repr__(self):\n",
    "        return f\"{self.naissance}, {self.nom}\"\n",
    "    \n",
    "    \"\"\"\n",
    "    def __hash__(self):\n",
    "        return hash((self.naissance, self.nom))\n",
    "    \"\"\"\n",
    "\n",
    "    def __eq__(self, other):\n",
    "        return self.naissance == other.naissance and self.nom == other.nom\n",
    "\n",
    "\n",
    "if __name__ == \"__main__\":\n",
    "    p1 = ObjetDeTest(1986, \"Machine\")\n",
    "    p2 = ObjetDeTest(1986, \"Machin\")\n",
    "    p3 = ObjetDeTest(1986, \"Machin\")\n",
    "    \n",
    "    print(p1 == p2)\n",
    "    print(p3 == p2)\n",
    "    #print(f\"\\nhash(p1:{p1})={hash(p1)}\")\n",
    "    #print(f\"hash(p2:{p2})={hash(p2)}\")\n",
    "    #print(f\"hash(p3:{p2})={hash(p3)}\\n\")\n",
    "\n",
    "    machine_dict = {p1: \"Machine\", p2: \"Machin\", p3: \"Machin2\"}\n",
    "    print(f\"Dictionnaire des {len(dict)} objets:\", machine_dict)    "
   ]
  },
  {
   "cell_type": "code",
   "execution_count": null,
   "id": "122f7d6a",
   "metadata": {},
   "outputs": [],
   "source": []
  }
 ],
 "metadata": {
  "kernelspec": {
   "display_name": "Python 3 (ipykernel)",
   "language": "python",
   "name": "python3"
  },
  "language_info": {
   "codemirror_mode": {
    "name": "ipython",
    "version": 3
   },
   "file_extension": ".py",
   "mimetype": "text/x-python",
   "name": "python",
   "nbconvert_exporter": "python",
   "pygments_lexer": "ipython3",
   "version": "3.8.2"
  }
 },
 "nbformat": 4,
 "nbformat_minor": 5
}
