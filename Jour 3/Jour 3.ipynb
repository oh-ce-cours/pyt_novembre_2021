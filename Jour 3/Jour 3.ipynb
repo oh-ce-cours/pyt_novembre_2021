{
 "cells": [
  {
   "cell_type": "markdown",
   "metadata": {},
   "source": [
    "# Rappel des épisodes précédents\n",
    "\n",
    "* types de de conteneurs bases et taille avec la fonction `len`\n",
    "* tests unitaires \n",
    "   * on peut tester facilement des fonctions pures (une fonction qui pour une entrée donnée a une sortie donnée / prévisible)\n",
    "   * le but c'est de chercher à écrire des fonctions pures que l'on va tester\n",
    "* exceptions \n",
    "* réflexions sur les imports\n",
    "* manipulations de chaines de caractères \n",
    "   * `split` (séparer un séparateur donné)\n",
    "   * `join`\n",
    "   * `strip`\n",
    "   * `f-string` / méthode `.format` et leur mini langage "
   ]
  },
  {
   "cell_type": "code",
   "execution_count": 3,
   "metadata": {},
   "outputs": [
    {
     "data": {
      "text/plain": [
       "['1', '2', '3', '4']"
      ]
     },
     "execution_count": 3,
     "metadata": {},
     "output_type": "execute_result"
    }
   ],
   "source": [
    "[d.strip() for d in \"1,2,3, 4 \".split(\",\")]"
   ]
  },
  {
   "cell_type": "code",
   "execution_count": 5,
   "metadata": {},
   "outputs": [
    {
     "name": "stdout",
     "output_type": "stream",
     "text": [
      "['1', '2', '3', '4']\n"
     ]
    }
   ],
   "source": [
    "res = []\n",
    "for d in \"1,2,3, 4 \".split(\",\"):\n",
    "    res.append(d.strip())\n",
    "print(res)"
   ]
  },
  {
   "cell_type": "code",
   "execution_count": 10,
   "metadata": {},
   "outputs": [
    {
     "name": "stdout",
     "output_type": "stream",
     "text": [
      "m\n",
      "o\n",
      "i\n",
      " \n",
      "c\n",
      "'\n",
      "e\n",
      "s\n",
      "t\n",
      " \n",
      "M\n",
      "a\n",
      "t\n",
      "t\n",
      "h\n",
      "i\n",
      "e\n",
      "u\n"
     ]
    }
   ],
   "source": [
    "s =\"moi c'est Matthie\"\n",
    "for letter in s:\n",
    "    print(letter)"
   ]
  },
  {
   "cell_type": "code",
   "execution_count": null,
   "metadata": {},
   "outputs": [],
   "source": []
  }
 ],
 "metadata": {
  "kernelspec": {
   "display_name": "Python 3",
   "language": "python",
   "name": "python3"
  },
  "language_info": {
   "codemirror_mode": {
    "name": "ipython",
    "version": 3
   },
   "file_extension": ".py",
   "mimetype": "text/x-python",
   "name": "python",
   "nbconvert_exporter": "python",
   "pygments_lexer": "ipython3",
   "version": "3.8.2"
  }
 },
 "nbformat": 4,
 "nbformat_minor": 4
}
