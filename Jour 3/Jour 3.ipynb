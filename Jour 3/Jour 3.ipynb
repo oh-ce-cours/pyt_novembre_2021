{
 "cells": [
  {
   "cell_type": "markdown",
   "metadata": {},
   "source": [
    "# Rappel des épisodes précédents\n",
    "\n",
    "* types de de conteneurs bases et taille avec la fonction `len` et le mot clé `ìn`\n",
    "* tests unitaires \n",
    "   * on peut tester facilement des fonctions pures (une fonction qui pour une entrée donnée a une sortie donnée / prévisible)\n",
    "   * le but c'est de chercher à écrire des fonctions pures que l'on va tester\n",
    "* exceptions \n",
    "* réflexions sur les imports\n",
    "* manipulations de chaines de caractères \n",
    "   * `split` (séparer un séparateur donné)\n",
    "   * `join`\n",
    "   * `strip`\n",
    "   * `f-string` / méthode `.format` et leur mini langage "
   ]
  },
  {
   "cell_type": "markdown",
   "metadata": {},
   "source": [
    "## Listes en compréhension\n",
    "\n",
    "Les deux cellules suivantes sont équivalentes"
   ]
  },
  {
   "cell_type": "code",
   "execution_count": 19,
   "metadata": {},
   "outputs": [
    {
     "data": {
      "text/plain": [
       "6"
      ]
     },
     "execution_count": 19,
     "metadata": {},
     "output_type": "execute_result"
    }
   ],
   "source": [
    "# comprehension list / liste en compréhension\n",
    "sum(int(d.strip()) for d in \"1,2,3, 4 \".split(\",\") if d.isnumeric())"
   ]
  },
  {
   "cell_type": "code",
   "execution_count": 14,
   "metadata": {},
   "outputs": [
    {
     "name": "stdout",
     "output_type": "stream",
     "text": [
      "['1', '2', '3']\n"
     ]
    }
   ],
   "source": [
    "res = []\n",
    "for d in \"1,2,3, 4 \".split(\",\"):\n",
    "    if d.isnumeric():\n",
    "        res.append(d.strip())\n",
    "print(res)"
   ]
  },
  {
   "cell_type": "markdown",
   "metadata": {},
   "source": [
    "## Chaines de caractères\n",
    "\n",
    "L'itération se fait sur les caractères par défaut"
   ]
  },
  {
   "cell_type": "code",
   "execution_count": 11,
   "metadata": {},
   "outputs": [
    {
     "name": "stdout",
     "output_type": "stream",
     "text": [
      "s\n",
      "a\n",
      "l\n",
      "u\n",
      "t\n"
     ]
    }
   ],
   "source": [
    "s =\"salut\"\n",
    "for letter in s:\n",
    "    print(letter)"
   ]
  },
  {
   "cell_type": "code",
   "execution_count": 25,
   "metadata": {},
   "outputs": [
    {
     "data": {
      "text/plain": [
       "'abc'"
      ]
     },
     "execution_count": 25,
     "metadata": {},
     "output_type": "execute_result"
    }
   ],
   "source": [
    "\" \\t\\n abc \\r\\n\".strip()"
   ]
  },
  {
   "cell_type": "code",
   "execution_count": 26,
   "metadata": {},
   "outputs": [
    {
     "data": {
      "text/plain": [
       "\"ici c'est Marseille\""
      ]
     },
     "execution_count": 26,
     "metadata": {},
     "output_type": "execute_result"
    }
   ],
   "source": [
    "\"ici c'est Paris\".replace(\"Paris\", \"Marseille\")"
   ]
  },
  {
   "cell_type": "code",
   "execution_count": 27,
   "metadata": {},
   "outputs": [
    {
     "data": {
      "text/plain": [
       "True"
      ]
     },
     "execution_count": 27,
     "metadata": {},
     "output_type": "execute_result"
    }
   ],
   "source": [
    "my_string = \"ici c'est Paris\"\n",
    "\"ici c'est\" in my_string"
   ]
  },
  {
   "cell_type": "markdown",
   "metadata": {},
   "source": [
    "# Dictionnaires"
   ]
  },
  {
   "cell_type": "code",
   "execution_count": 35,
   "metadata": {},
   "outputs": [
    {
     "name": "stdout",
     "output_type": "stream",
     "text": [
      "{'cle': 'valeur', 1: 'ça marche', 2.4: 'aussi'} <class 'dict'>\n"
     ]
    }
   ],
   "source": [
    "d = {\"cle\":\"valeur\", 1: \"ça marche\", 2.4: \"aussi\"}\n",
    "print(d, type(d))"
   ]
  },
  {
   "cell_type": "code",
   "execution_count": 30,
   "metadata": {},
   "outputs": [
    {
     "data": {
      "text/plain": [
       "'valeur'"
      ]
     },
     "execution_count": 30,
     "metadata": {},
     "output_type": "execute_result"
    }
   ],
   "source": [
    "d[\"cle\"]"
   ]
  },
  {
   "cell_type": "code",
   "execution_count": 31,
   "metadata": {},
   "outputs": [
    {
     "ename": "KeyError",
     "evalue": "'nexistepas'",
     "output_type": "error",
     "traceback": [
      "\u001b[1;31m---------------------------------------------------------------------------\u001b[0m",
      "\u001b[1;31mKeyError\u001b[0m                                  Traceback (most recent call last)",
      "\u001b[1;32m<ipython-input-31-2352227f1bb8>\u001b[0m in \u001b[0;36m<module>\u001b[1;34m\u001b[0m\n\u001b[1;32m----> 1\u001b[1;33m \u001b[0md\u001b[0m\u001b[1;33m[\u001b[0m\u001b[1;34m\"nexistepas\"\u001b[0m\u001b[1;33m]\u001b[0m\u001b[1;33m\u001b[0m\u001b[1;33m\u001b[0m\u001b[0m\n\u001b[0m",
      "\u001b[1;31mKeyError\u001b[0m: 'nexistepas'"
     ]
    }
   ],
   "source": [
    "d[\"nexistepas\"]"
   ]
  },
  {
   "cell_type": "code",
   "execution_count": 32,
   "metadata": {},
   "outputs": [
    {
     "data": {
      "text/plain": [
       "'valeur par défaut'"
      ]
     },
     "execution_count": 32,
     "metadata": {},
     "output_type": "execute_result"
    }
   ],
   "source": [
    "d.get(\"pas sur que la cle existe\", \"valeur par défaut\")"
   ]
  },
  {
   "cell_type": "code",
   "execution_count": 38,
   "metadata": {},
   "outputs": [
    {
     "name": "stdout",
     "output_type": "stream",
     "text": [
      "{'cle': 'valeur', 1: 'ça marche', 2.4: 'aussi', (1, 2): 'ça oui ça marche'}\n"
     ]
    }
   ],
   "source": [
    "d = {\"cle\":\"valeur\", 1: \"ça marche\", 2.4: \"aussi\", (1, 2): \"ça oui ça marche\"}\n",
    "print(d)"
   ]
  },
  {
   "cell_type": "code",
   "execution_count": 45,
   "metadata": {},
   "outputs": [
    {
     "data": {
      "text/plain": [
       "'ça oui ça marche'"
      ]
     },
     "execution_count": 45,
     "metadata": {},
     "output_type": "execute_result"
    }
   ],
   "source": [
    "d[(1, 2)]"
   ]
  },
  {
   "cell_type": "code",
   "execution_count": 48,
   "metadata": {},
   "outputs": [
    {
     "name": "stdout",
     "output_type": "stream",
     "text": [
      "cle valeur\n",
      "1 ça marche\n",
      "2.4 aussi\n",
      "(1, 2) ça oui ça marche\n"
     ]
    }
   ],
   "source": [
    "for key in d:\n",
    "    print(key, d[key])"
   ]
  },
  {
   "cell_type": "code",
   "execution_count": 72,
   "metadata": {},
   "outputs": [
    {
     "name": "stdout",
     "output_type": "stream",
     "text": [
      "cle valeur\n",
      "1 ça marche\n",
      "2.4 aussi\n",
      "(1, 2) ça oui ça marche\n"
     ]
    }
   ],
   "source": [
    "for cle, valeur in d.items():\n",
    "    print(cle, valeur)"
   ]
  },
  {
   "cell_type": "code",
   "execution_count": 64,
   "metadata": {},
   "outputs": [
    {
     "name": "stdout",
     "output_type": "stream",
     "text": [
      "(1, 2)\n",
      "ça oui ça marche\n"
     ]
    }
   ],
   "source": [
    "cle = quelquechose[0]\n",
    "valeur = quelquechose[1]\n",
    "# cle, valeur = quelquechose\n",
    "print(cle)\n",
    "print(valeur)"
   ]
  },
  {
   "cell_type": "code",
   "execution_count": 65,
   "metadata": {},
   "outputs": [],
   "source": [
    "def f():\n",
    "    return True, \"ça marche\"\n",
    "\n",
    "status, message = f()"
   ]
  },
  {
   "cell_type": "code",
   "execution_count": 66,
   "metadata": {},
   "outputs": [
    {
     "name": "stdout",
     "output_type": "stream",
     "text": [
      "<class 'tuple'>\n"
     ]
    }
   ],
   "source": [
    "res = f()\n",
    "status = res[0]\n",
    "message = res[1]"
   ]
  },
  {
   "cell_type": "markdown",
   "metadata": {},
   "source": [
    "## Tuple unpacking"
   ]
  },
  {
   "cell_type": "code",
   "execution_count": 70,
   "metadata": {},
   "outputs": [
    {
     "data": {
      "text/plain": [
       "2"
      ]
     },
     "execution_count": 70,
     "metadata": {},
     "output_type": "execute_result"
    }
   ],
   "source": [
    "a = [\n",
    "    [1, 2], \n",
    "    [3, 4]\n",
    "]\n",
    "a[0][1]"
   ]
  },
  {
   "cell_type": "code",
   "execution_count": 88,
   "metadata": {},
   "outputs": [
    {
     "name": "stdout",
     "output_type": "stream",
     "text": [
      "True 2\n",
      "False 1\n",
      "True 3\n"
     ]
    }
   ],
   "source": [
    "l = [\n",
    "    [True, \"message\", (1, 2, 3)],\n",
    "    [False, \"casse\", (1, 1, 1)],\n",
    "    [True, \"super\", (-1, 3, 5)],\n",
    "]\n",
    "\n",
    "for status, _, (_, coord_y, _) in l:\n",
    "    print(status, coord_y)"
   ]
  },
  {
   "cell_type": "code",
   "execution_count": 95,
   "metadata": {},
   "outputs": [
    {
     "name": "stdout",
     "output_type": "stream",
     "text": [
      "1\n",
      "2\n",
      "[3, 4, 5, 6, 7]\n",
      "8\n",
      "9\n"
     ]
    }
   ],
   "source": [
    "a, b, *c, d, e = [1, 2, 3, 4, 5, 6, 7, 8, 9]\n",
    "print(a)\n",
    "print(b)\n",
    "print(c)\n",
    "print(d)\n",
    "print(e)"
   ]
  },
  {
   "cell_type": "markdown",
   "metadata": {},
   "source": [
    "# Exercice sur les dictionnaires"
   ]
  },
  {
   "cell_type": "code",
   "execution_count": 17,
   "metadata": {},
   "outputs": [
    {
     "name": "stdout",
     "output_type": "stream",
     "text": [
      "\"Les dictionnaires c'est cool !!\"\n"
     ]
    }
   ],
   "source": [
    "# chaine = \"\"\"Les dictionnaires c'est cool !!\n",
    "# Et les chaines ça tient sur plusieurs lignes. \n",
    "# C'est cool\"\"\"\n",
    "\n",
    "chaine = \"Les dictionnaires c'est cool !!\"\n",
    "print(repr(chaine))"
   ]
  },
  {
   "cell_type": "markdown",
   "metadata": {},
   "source": [
    "## Solution 1 \n",
    "\n",
    "La complexité est en $n^2$"
   ]
  },
  {
   "cell_type": "code",
   "execution_count": 175,
   "metadata": {},
   "outputs": [],
   "source": [
    "lettre_parcourues = []\n",
    "compteur_de_lettres = []\n",
    "for lettre in chaine:\n",
    "    if lettre in lettre_parcourues:\n",
    "        continue \n",
    "    compteur_de_lettres.append(chaine.count(lettre))\n",
    "    lettre_parcourues.append(lettre)"
   ]
  },
  {
   "cell_type": "markdown",
   "metadata": {},
   "source": [
    "Présentation des résultats"
   ]
  },
  {
   "cell_type": "code",
   "execution_count": 176,
   "metadata": {},
   "outputs": [
    {
     "name": "stdout",
     "output_type": "stream",
     "text": [
      "['L', 'e', 's', ' ', 'd', 'i', 'c', 't', 'o', 'n', 'a', 'r', \"'\", 'l', '!']\n",
      "[1, 3, 3, 4, 1, 3, 3, 2, 3, 2, 1, 1, 1, 1, 2]\n",
      "la lettre L apparait 1 fois\n",
      "la lettre e apparait 3 fois\n",
      "la lettre s apparait 3 fois\n",
      "la lettre   apparait 4 fois\n",
      "la lettre d apparait 1 fois\n",
      "la lettre i apparait 3 fois\n",
      "la lettre c apparait 3 fois\n",
      "la lettre t apparait 2 fois\n",
      "la lettre o apparait 3 fois\n",
      "la lettre n apparait 2 fois\n",
      "la lettre a apparait 1 fois\n",
      "la lettre r apparait 1 fois\n",
      "la lettre ' apparait 1 fois\n",
      "la lettre l apparait 1 fois\n",
      "la lettre ! apparait 2 fois\n"
     ]
    }
   ],
   "source": [
    "print(lettre_parcourues)\n",
    "print(compteur_de_lettres)\n",
    "\n",
    "for index in range(len(lettre_parcourues)):\n",
    "    lettre = lettre_parcourues[index]\n",
    "    nombre = compteur_de_lettres[index]\n",
    "    print(f\"la lettre {lettre} apparait {nombre} fois\")"
   ]
  },
  {
   "cell_type": "code",
   "execution_count": 177,
   "metadata": {},
   "outputs": [
    {
     "name": "stdout",
     "output_type": "stream",
     "text": [
      "la lettre L apparait 1 fois\n",
      "la lettre e apparait 3 fois\n",
      "la lettre s apparait 3 fois\n",
      "la lettre   apparait 4 fois\n",
      "la lettre d apparait 1 fois\n",
      "la lettre i apparait 3 fois\n",
      "la lettre c apparait 3 fois\n",
      "la lettre t apparait 2 fois\n",
      "la lettre o apparait 3 fois\n",
      "la lettre n apparait 2 fois\n",
      "la lettre a apparait 1 fois\n",
      "la lettre r apparait 1 fois\n",
      "la lettre ' apparait 1 fois\n",
      "la lettre l apparait 1 fois\n",
      "la lettre ! apparait 2 fois\n"
     ]
    }
   ],
   "source": [
    "for lettre, nombre in zip(lettre_parcourues, compteur_de_lettres):\n",
    "    print(f\"la lettre {lettre} apparait {nombre} fois\")"
   ]
  },
  {
   "cell_type": "markdown",
   "metadata": {},
   "source": [
    "## Solution 2 \n",
    "\n",
    "Nous allons utiliser des dictionnaires. \n",
    "\n",
    "On se base sur le principe que les ditionnaires ne peuvent pas contenir de doublons. "
   ]
  },
  {
   "cell_type": "code",
   "execution_count": 178,
   "metadata": {},
   "outputs": [
    {
     "name": "stdout",
     "output_type": "stream",
     "text": [
      "{1: 'toto'}\n",
      "{1: 'tata'}\n"
     ]
    }
   ],
   "source": [
    "d = {}\n",
    "d[1] = \"toto\"\n",
    "print(d)\n",
    "d[1] = 'tata'\n",
    "print(d)"
   ]
  },
  {
   "cell_type": "markdown",
   "metadata": {},
   "source": [
    "#### Approche 1"
   ]
  },
  {
   "cell_type": "code",
   "execution_count": 179,
   "metadata": {},
   "outputs": [
    {
     "name": "stdout",
     "output_type": "stream",
     "text": [
      "{'L': 1, 'e': 3, 's': 3, ' ': 4, 'd': 1, 'i': 3, 'c': 3, 't': 2, 'o': 3, 'n': 2, 'a': 1, 'r': 1, \"'\": 1, 'l': 1, '!': 2}\n"
     ]
    }
   ],
   "source": [
    "compteur = {}\n",
    "for lettre in chaine:\n",
    "    if not lettre in compteur:\n",
    "        compteur[lettre] = 0\n",
    "    compteur[lettre] +=  1\n",
    "    \n",
    "print(compteur)"
   ]
  },
  {
   "cell_type": "markdown",
   "metadata": {},
   "source": [
    "#### Approche 2"
   ]
  },
  {
   "cell_type": "code",
   "execution_count": 19,
   "metadata": {},
   "outputs": [
    {
     "name": "stdout",
     "output_type": "stream",
     "text": [
      "{'L': 1, 'e': 3, 's': 3, ' ': 4, 'd': 1, 'i': 3, 'c': 3, 't': 2, 'o': 3, 'n': 2, 'a': 1, 'r': 1, \"'\": 1, 'l': 1, '!': 2}\n"
     ]
    }
   ],
   "source": [
    "compteur = {}\n",
    "for lettre in chaine:\n",
    "    if lettre in compteur:\n",
    "        compteur[lettre] = compteur[lettre] + 1\n",
    "    else:\n",
    "        compteur[lettre] = 1\n",
    "print(compteur)"
   ]
  },
  {
   "cell_type": "code",
   "execution_count": 181,
   "metadata": {},
   "outputs": [
    {
     "name": "stdout",
     "output_type": "stream",
     "text": [
      "la lettre L apparait 1 fois\n",
      "la lettre e apparait 3 fois\n",
      "la lettre s apparait 3 fois\n",
      "la lettre   apparait 4 fois\n",
      "la lettre d apparait 1 fois\n",
      "la lettre i apparait 3 fois\n",
      "la lettre c apparait 3 fois\n",
      "la lettre t apparait 2 fois\n",
      "la lettre o apparait 3 fois\n",
      "la lettre n apparait 2 fois\n",
      "la lettre a apparait 1 fois\n",
      "la lettre r apparait 1 fois\n",
      "la lettre ' apparait 1 fois\n",
      "la lettre l apparait 1 fois\n",
      "la lettre ! apparait 2 fois\n"
     ]
    }
   ],
   "source": [
    "for lettre, nombre in compteur.items():\n",
    "    print(f\"la lettre {lettre} apparait {nombre} fois\")"
   ]
  },
  {
   "cell_type": "markdown",
   "metadata": {},
   "source": [
    "### Solution 3"
   ]
  },
  {
   "cell_type": "code",
   "execution_count": 182,
   "metadata": {},
   "outputs": [
    {
     "name": "stdout",
     "output_type": "stream",
     "text": [
      "[(' ', 4), ('e', 3), ('s', 3), ('i', 3), ('c', 3), ('o', 3), ('t', 2)]\n"
     ]
    }
   ],
   "source": [
    "import collections\n",
    "\n",
    "c = collections.Counter(chaine)\n",
    "print(c.most_common(7))"
   ]
  },
  {
   "cell_type": "markdown",
   "metadata": {},
   "source": [
    "## Lettres les plus communes avec un dictionnaire\n",
    "\n",
    "En python, nous pouvons trier des éléments avec `sorted`. La fonction va utiliser une fonction `key` pour changer le comportement. \n",
    "\n",
    "Grosso modo le fonctionnement de key est le suivant (fonction `sort` imaginaire mais réaliste) :\n",
    "\n",
    "```python\n",
    "def sort(a, b, key):\n",
    "    if key(a) < key(b):\n",
    "        return a, b\n",
    "    else:\n",
    "        return b, a\n",
    "```"
   ]
  },
  {
   "cell_type": "code",
   "execution_count": 31,
   "metadata": {},
   "outputs": [
    {
     "data": {
      "text/plain": [
       "[(4, ' '),\n",
       " (3, 'c'),\n",
       " (3, 'e'),\n",
       " (3, 'i'),\n",
       " (3, 'o'),\n",
       " (3, 's'),\n",
       " (2, '!'),\n",
       " (2, 'n'),\n",
       " (2, 't'),\n",
       " (1, \"'\"),\n",
       " (1, 'a'),\n",
       " (1, 'd'),\n",
       " (1, 'L'),\n",
       " (1, 'l'),\n",
       " (1, 'r')]"
      ]
     },
     "execution_count": 31,
     "metadata": {},
     "output_type": "execute_result"
    }
   ],
   "source": [
    "def my_key(item):\n",
    "    return -1*item[0], item[1].lower()\n",
    "\n",
    "values = [(valeur, cle) for cle, valeur in compteur.items()]\n",
    "sorted(values, key=my_key)"
   ]
  },
  {
   "cell_type": "code",
   "execution_count": 196,
   "metadata": {},
   "outputs": [
    {
     "data": {
      "text/plain": [
       "[('a', 3), ('b', 2), ('c', 1)]"
      ]
     },
     "execution_count": 196,
     "metadata": {},
     "output_type": "execute_result"
    }
   ],
   "source": [
    "l = [(\"c\", 1), (\"b\", 2), (\"a\", 3)]\n",
    "sorted(l)"
   ]
  },
  {
   "cell_type": "code",
   "execution_count": 4,
   "metadata": {},
   "outputs": [
    {
     "data": {
      "text/plain": [
       "[('a', 1), ('a', 3), ('b', 2), ('c', 1)]"
      ]
     },
     "execution_count": 4,
     "metadata": {},
     "output_type": "execute_result"
    }
   ],
   "source": [
    "l = [(\"a\", 3), (\"b\", 2), (\"c\", 1), (\"a\", 1)]\n",
    "sorted(l)"
   ]
  },
  {
   "cell_type": "code",
   "execution_count": 5,
   "metadata": {},
   "outputs": [
    {
     "name": "stdout",
     "output_type": "stream",
     "text": [
      "Help on built-in function sorted in module builtins:\n",
      "\n",
      "sorted(iterable, /, *, key=None, reverse=False)\n",
      "    Return a new list containing all items from the iterable in ascending order.\n",
      "    \n",
      "    A custom key function can be supplied to customize the sort order, and the\n",
      "    reverse flag can be set to request the result in descending order.\n",
      "\n"
     ]
    }
   ],
   "source": [
    "help(sorted)"
   ]
  },
  {
   "cell_type": "code",
   "execution_count": 6,
   "metadata": {},
   "outputs": [],
   "source": []
  },
  {
   "cell_type": "code",
   "execution_count": 15,
   "metadata": {},
   "outputs": [
    {
     "data": {
      "text/plain": [
       "[('c', 1), ('a', 1), ('b', 2), ('a', 3)]"
      ]
     },
     "execution_count": 15,
     "metadata": {},
     "output_type": "execute_result"
    }
   ],
   "source": [
    "def my_key_function(item):\n",
    "    return item[1]\n",
    "# est équivalent à\n",
    "my_key_function = lambda item: item[1]\n",
    "\n",
    "l = [(\"a\", 3), (\"b\", 2), (\"c\", 1), (\"a\", 1)]\n",
    "sorted(l, key=lambda item: item[1])"
   ]
  },
  {
   "cell_type": "markdown",
   "metadata": {},
   "source": [
    "## Example de manipulation et de formatage de dictionnaires / JSON"
   ]
  },
  {
   "cell_type": "code",
   "execution_count": 36,
   "metadata": {},
   "outputs": [
    {
     "name": "stdout",
     "output_type": "stream",
     "text": [
      "[(3, 'a'),\n",
      " (3, 'b'),\n",
      " (3, 'c'),\n",
      " (2, 'b'),\n",
      " (1, 'a')]\n"
     ]
    }
   ],
   "source": [
    "import pprint\n",
    "\n",
    "values = [(1, \"a\"), (3, \"b\"), (3, \"a\"), (2, \"b\"), (3, \"c\")]\n",
    "pprint.pprint(sorted(values, key=lambda item: (-1*item[0], item[1])), width=20)"
   ]
  },
  {
   "cell_type": "code",
   "execution_count": 33,
   "metadata": {},
   "outputs": [],
   "source": [
    "pprint.pprint?"
   ]
  },
  {
   "cell_type": "code",
   "execution_count": 42,
   "metadata": {},
   "outputs": [
    {
     "name": "stdout",
     "output_type": "stream",
     "text": [
      "Sample Konfabulator Widget\n",
      "on\n"
     ]
    }
   ],
   "source": [
    "example_dico = {\n",
    "    \"widget\": {\n",
    "        \"débug\": \"on\",\n",
    "        \"window\": {\n",
    "            \"title\": \"Sample Konfabulator Widget\",\n",
    "            \"name\": \"main_window\",\n",
    "            \"width\": 500,\n",
    "            \"height\": 500\n",
    "        },\n",
    "        \"image\": {\n",
    "            \"src\": \"Images/Sun.png\",\n",
    "            \"name\": \"sun1\",\n",
    "            \"hOffset\": 250,\n",
    "            \"vOffset\": 250,\n",
    "            \"alignment\": \"center\"\n",
    "        },\n",
    "        \"text\": {\n",
    "            \"data\": \"Click Here\",\n",
    "            \"size\": 36,\n",
    "            \"style\": \"bold\",\n",
    "            \"name\": \"text1\",\n",
    "            \"hOffset\": 250,\n",
    "            \"vOffset\": 100,\n",
    "            \"alignment\": \"center\",\n",
    "            \"onMouseUp\": \"sun1.opacity = (sun1.opacity / 100) * 90;\"\n",
    "        }\n",
    "    }\n",
    "}\n",
    "\n",
    "print(example_dico[\"widget\"][\"window\"][\"title\"])\n",
    "print(example_dico[\"widget\"][\"débug\"])"
   ]
  },
  {
   "cell_type": "code",
   "execution_count": 44,
   "metadata": {},
   "outputs": [],
   "source": [
    "import json \n",
    "json_string = json.dumps(example_dico)"
   ]
  },
  {
   "cell_type": "code",
   "execution_count": 46,
   "metadata": {},
   "outputs": [
    {
     "name": "stdout",
     "output_type": "stream",
     "text": [
      "{'widget': {'débug': 'on',\n",
      "            'image': {'alignment': 'center',\n",
      "                      'hOffset': 250,\n",
      "                      'name': 'sun1',\n",
      "                      'src': 'Images/Sun.png',\n",
      "                      'vOffset': 250},\n",
      "            'text': {'alignment': 'center',\n",
      "                     'data': 'Click Here',\n",
      "                     'hOffset': 250,\n",
      "                     'name': 'text1',\n",
      "                     'onMouseUp': 'sun1.opacity = (sun1.opacity / 100) * 90;',\n",
      "                     'size': 36,\n",
      "                     'style': 'bold',\n",
      "                     'vOffset': 100},\n",
      "            'window': {'height': 500,\n",
      "                       'name': 'main_window',\n",
      "                       'title': 'Sample Konfabulator Widget',\n",
      "                       'width': 500}}}\n"
     ]
    }
   ],
   "source": [
    "pprint.pprint(json.loads(json_string))"
   ]
  },
  {
   "cell_type": "markdown",
   "metadata": {},
   "source": [
    "# Programmation Orientée Objet (POO)"
   ]
  },
  {
   "cell_type": "code",
   "execution_count": 47,
   "metadata": {},
   "outputs": [],
   "source": [
    "class MonNouveauType:\n",
    "    pass"
   ]
  },
  {
   "cell_type": "code",
   "execution_count": 49,
   "metadata": {},
   "outputs": [
    {
     "name": "stdout",
     "output_type": "stream",
     "text": [
      "<__main__.MonNouveauType object at 0x0000021C83764130>\n",
      "<class '__main__.MonNouveauType'>\n"
     ]
    }
   ],
   "source": [
    "mon_instance = MonNouveauType()\n",
    "print(mon_instance)\n",
    "print(type(mon_instance))"
   ]
  },
  {
   "cell_type": "code",
   "execution_count": 55,
   "metadata": {},
   "outputs": [
    {
     "name": "stdout",
     "output_type": "stream",
     "text": [
      "dans le constructeur de ma premiere classe\n"
     ]
    }
   ],
   "source": [
    "class MaPremiereClasse:\n",
    "    def __init__(self):\n",
    "        print(\"dans le constructeur de ma premiere classe\")\n",
    "    \n",
    "mon_premier_objet = MaPremiereClasse()"
   ]
  },
  {
   "cell_type": "code",
   "execution_count": 56,
   "metadata": {},
   "outputs": [
    {
     "data": {
      "text/plain": [
       "{'__name__': '__main__',\n",
       " '__doc__': 'Automatically created module for IPython interactive environment',\n",
       " '__package__': None,\n",
       " '__loader__': None,\n",
       " '__spec__': None,\n",
       " '__builtin__': <module 'builtins' (built-in)>,\n",
       " '__builtins__': <module 'builtins' (built-in)>,\n",
       " '_ih': ['',\n",
       "  'l = [(\"a\", 3), (\"b\", 2), (\"c\", 1)]\\nsorted(l, reversed=True)',\n",
       "  'l = [(\"a\", 3), (\"b\", 2), (\"c\", 1)]\\nsorted(l, reverse=True)',\n",
       "  'l = [(\"a\", 3), (\"b\", 2), (\"c\", 1), (\"a\", 1)]\\nsorted(l, reverse=True)',\n",
       "  'l = [(\"a\", 3), (\"b\", 2), (\"c\", 1), (\"a\", 1)]\\nsorted(l)',\n",
       "  'help(sorted)',\n",
       "  'def sort(a, b, key):\\n    if key(a) < key(b):\\n        return a, b\\n    else:\\n        return b, a',\n",
       "  'def my_key_function(a, b):\\n    pass\\n\\nl = [(\"a\", 3), (\"b\", 2), (\"c\", 1), (\"a\", 1)]\\nsorted(l, key=my_key_function())',\n",
       "  'def my_key_function(a, b):\\n    pass\\n\\nl = [(\"a\", 3), (\"b\", 2), (\"c\", 1), (\"a\", 1)]\\nsorted(l, key=my_key_function(a, b))',\n",
       "  'def my_key_function(a, b):\\n    pass\\n\\nl = [(\"a\", 3), (\"b\", 2), (\"c\", 1), (\"a\", 1)]\\nsorted(l, key=my_key_function)',\n",
       "  'def my_key_function(item):\\n    pass\\n\\nl = [(\"a\", 3), (\"b\", 2), (\"c\", 1), (\"a\", 1)]\\nsorted(l, key=my_key_function)',\n",
       "  'def my_key_function(item):\\n    return \"toto\"\\n\\nl = [(\"a\", 3), (\"b\", 2), (\"c\", 1), (\"a\", 1)]\\nsorted(l, key=my_key_function)',\n",
       "  'def my_key_function(item):\\n    print(item)\\n    return None\\n\\nl = [(\"a\", 3), (\"b\", 2), (\"c\", 1), (\"a\", 1)]\\nsorted(l, key=my_key_function)',\n",
       "  'def my_key_function(item):\\n    print(item)\\n    return return[1]\\n\\nl = [(\"a\", 3), (\"b\", 2), (\"c\", 1), (\"a\", 1)]\\nsorted(l, key=my_key_function)',\n",
       "  'def my_key_function(item):\\n    print(item)\\n    return item[1]\\n\\nl = [(\"a\", 3), (\"b\", 2), (\"c\", 1), (\"a\", 1)]\\nsorted(l, key=my_key_function)',\n",
       "  'def my_key_function(item):\\n    return item[1]\\n\\nl = [(\"a\", 3), (\"b\", 2), (\"c\", 1), (\"a\", 1)]\\nsorted(l, key= lambda item: item[1])',\n",
       "  'sorted([(valeur, cle) for cle, valeur in compteur.items()])',\n",
       "  '# chaine = \"\"\"Les dictionnaires c\\'est cool !!\\n# Et les chaines ça tient sur plusieurs lignes. \\n# C\\'est cool\"\"\"\\n\\nchaine = \"Les dictionnaires c\\'est cool !!\"\\nprint(repr(chaine))',\n",
       "  'sorted([(valeur, cle) for cle, valeur in compteur.items()])',\n",
       "  'compteur = {}\\nfor lettre in chaine:\\n    if lettre in compteur:\\n        compteur[lettre] = compteur[lettre] + 1\\n    else:\\n        compteur[lettre] = 1\\nprint(compteur)',\n",
       "  'sorted([(valeur, cle) for cle, valeur in compteur.items()])',\n",
       "  'def my_key(item):\\n    print(item)\\n    return item\\n\\nvalues = [(valeur, cle) for cle, valeur in compteur.items()]\\nsorted(valeus, key=my_key)',\n",
       "  'def my_key(item):\\n    print(item)\\n    return item\\n\\nvalues = [(valeur, cle) for cle, valeur in compteur.items()]\\nsorted(values, key=my_key)',\n",
       "  'sorted([1, 2, 3], key=lambda item: -1*item)',\n",
       "  'values = [(1, \"a\"), (2, \"b\"), (3, \"c\")]\\nsorted(values, key=lambda item: -1*item[0])',\n",
       "  'values = [(1, \"a\"), (3, \"a\"), (2, \"b\"), (3, \"c\")]\\nsorted(values, key=lambda item: -1*item[0])',\n",
       "  'values = [(1, \"a\"), (3, \"b\"), (3, \"a\"), (2, \"b\"), (3, \"c\")]\\nsorted(values, key=lambda item: -1*item[0])',\n",
       "  'values = [(1, \"a\"), (3, \"b\"), (3, \"a\"), (2, \"b\"), (3, \"c\")]\\nsorted(values, key=lambda item: (-1*item[0], item[1]))',\n",
       "  'def my_key(item):\\n    print(item)\\n    return -1*item[0], item[1]\\n\\nvalues = [(valeur, cle) for cle, valeur in compteur.items()]\\nsorted(values, key=my_key)',\n",
       "  'def my_key(item):\\n    print(item)\\n    return -1*item[0], item[1].lower()\\n\\nvalues = [(valeur, cle) for cle, valeur in compteur.items()]\\nsorted(values, key=my_key)',\n",
       "  'def my_key(item):\\n    return -1*item[0], item[1].lower()\\n\\nvalues = [(valeur, cle) for cle, valeur in compteur.items()]\\nsorted(values, key=my_key)',\n",
       "  'def my_key(item):\\n    return -1*item[0], item[1].lower()\\n\\nvalues = [(valeur, cle) for cle, valeur in compteur.items()]\\nsorted(values, key=my_key)',\n",
       "  'import pprint\\n\\nvalues = [(1, \"a\"), (3, \"b\"), (3, \"a\"), (2, \"b\"), (3, \"c\")]\\npprint.pprint(sorted(values, key=lambda item: (-1*item[0], item[1])))',\n",
       "  \"get_ipython().run_line_magic('pinfo', 'pprint.pprint')\",\n",
       "  'import pprint\\n\\nvalues = [(1, \"a\"), (3, \"b\"), (3, \"a\"), (2, \"b\"), (3, \"c\")]\\npprint.pprint(sorted(values, key=lambda item: (-1*item[0], item[1])), width=20)',\n",
       "  'import pprint\\n\\nvalues = [(1, \"a\"), (3, \"b\"), (3, \"a\"), (2, \"b\"), (3, \"c\")]\\npprint.pprint(sorted(values, key=lambda item: (-1*item[0], item[1])), width=20, indent=4)',\n",
       "  'import pprint\\n\\nvalues = [(1, \"a\"), (3, \"b\"), (3, \"a\"), (2, \"b\"), (3, \"c\")]\\npprint.pprint(sorted(values, key=lambda item: (-1*item[0], item[1])), width=20)',\n",
       "  'example_dico = {\\n    \"widget\": {\\n        \"debug\": \"on\",\\n        \"window\": {\\n            \"title\": \"Sample Konfabulator Widget\",\\n            \"name\": \"main_window\",\\n            \"width\": 500,\\n            \"height\": 500\\n        },\\n        \"image\": {\\n            \"src\": \"Images/Sun.png\",\\n            \"name\": \"sun1\",\\n            \"hOffset\": 250,\\n            \"vOffset\": 250,\\n            \"alignment\": \"center\"\\n        },\\n        \"text\": {\\n            \"data\": \"Click Here\",\\n            \"size\": 36,\\n            \"style\": \"bold\",\\n            \"name\": \"text1\",\\n            \"hOffset\": 250,\\n            \"vOffset\": 100,\\n            \"alignment\": \"center\",\\n            \"onMouseUp\": \"sun1.opacity = (sun1.opacity / 100) * 90;\"\\n        }\\n    }\\n}',\n",
       "  'example_dico = {\\n    \"widget\": {\\n        \"debug\": \"on\",\\n        \"window\": {\\n            \"title\": \"Sample Konfabulator Widget\",\\n            \"name\": \"main_window\",\\n            \"width\": 500,\\n            \"height\": 500\\n        },\\n        \"image\": {\\n            \"src\": \"Images/Sun.png\",\\n            \"name\": \"sun1\",\\n            \"hOffset\": 250,\\n            \"vOffset\": 250,\\n            \"alignment\": \"center\"\\n        },\\n        \"text\": {\\n            \"data\": \"Click Here\",\\n            \"size\": 36,\\n            \"style\": \"bold\",\\n            \"name\": \"text1\",\\n            \"hOffset\": 250,\\n            \"vOffset\": 100,\\n            \"alignment\": \"center\",\\n            \"onMouseUp\": \"sun1.opacity = (sun1.opacity / 100) * 90;\"\\n        }\\n    }\\n}\\nexample_dico[\"widget\"][\"window\"][\"title\"]',\n",
       "  'example_dico = {\\n    \"widget\": {\\n        \"débug\": \"on\",\\n        \"window\": {\\n            \"title\": \"Sample Konfabulator Widget\",\\n            \"name\": \"main_window\",\\n            \"width\": 500,\\n            \"height\": 500\\n        },\\n        \"image\": {\\n            \"src\": \"Images/Sun.png\",\\n            \"name\": \"sun1\",\\n            \"hOffset\": 250,\\n            \"vOffset\": 250,\\n            \"alignment\": \"center\"\\n        },\\n        \"text\": {\\n            \"data\": \"Click Here\",\\n            \"size\": 36,\\n            \"style\": \"bold\",\\n            \"name\": \"text1\",\\n            \"hOffset\": 250,\\n            \"vOffset\": 100,\\n            \"alignment\": \"center\",\\n            \"onMouseUp\": \"sun1.opacity = (sun1.opacity / 100) * 90;\"\\n        }\\n    }\\n}\\nexample_dico[\"widget\"][\"window\"][\"title\"]',\n",
       "  'example_dico = {\\n    \"widget\": {\\n        \"debug\": \"on\",\\n        \"window\": {\\n            \"title\": \"Sample Konfabulator Widget\",\\n            \"name\": \"main_window\",\\n            \"width\": 500,\\n            \"height\": 500\\n        },\\n        \"image\": {\\n            \"src\": \"Images/Sun.png\",\\n            \"name\": \"sun1\",\\n            \"hOffset\": 250,\\n            \"vOffset\": 250,\\n            \"alignment\": \"center\"\\n        },\\n        \"text\": {\\n            \"data\": \"Click Here\",\\n            \"size\": 36,\\n            \"style\": \"bold\",\\n            \"name\": \"text1\",\\n            \"hOffset\": 250,\\n            \"vOffset\": 100,\\n            \"alignment\": \"center\",\\n            \"onMouseUp\": \"sun1.opacity = (sun1.opacity / 100) * 90;\"\\n        }\\n    }\\n}\\nexample_dico[\"widget\"][\"window\"][\"title\"]',\n",
       "  'example_dico = {\\n    \"widget\": {\\n        \"débug\": \"on\",\\n        \"window\": {\\n            \"title\": \"Sample Konfabulator Widget\",\\n            \"name\": \"main_window\",\\n            \"width\": 500,\\n            \"height\": 500\\n        },\\n        \"image\": {\\n            \"src\": \"Images/Sun.png\",\\n            \"name\": \"sun1\",\\n            \"hOffset\": 250,\\n            \"vOffset\": 250,\\n            \"alignment\": \"center\"\\n        },\\n        \"text\": {\\n            \"data\": \"Click Here\",\\n            \"size\": 36,\\n            \"style\": \"bold\",\\n            \"name\": \"text1\",\\n            \"hOffset\": 250,\\n            \"vOffset\": 100,\\n            \"alignment\": \"center\",\\n            \"onMouseUp\": \"sun1.opacity = (sun1.opacity / 100) * 90;\"\\n        }\\n    }\\n}\\nexample_dico[\"widget\"][\"window\"][\"title\"]',\n",
       "  'example_dico = {\\n    \"widget\": {\\n        \"débug\": \"on\",\\n        \"window\": {\\n            \"title\": \"Sample Konfabulator Widget\",\\n            \"name\": \"main_window\",\\n            \"width\": 500,\\n            \"height\": 500\\n        },\\n        \"image\": {\\n            \"src\": \"Images/Sun.png\",\\n            \"name\": \"sun1\",\\n            \"hOffset\": 250,\\n            \"vOffset\": 250,\\n            \"alignment\": \"center\"\\n        },\\n        \"text\": {\\n            \"data\": \"Click Here\",\\n            \"size\": 36,\\n            \"style\": \"bold\",\\n            \"name\": \"text1\",\\n            \"hOffset\": 250,\\n            \"vOffset\": 100,\\n            \"alignment\": \"center\",\\n            \"onMouseUp\": \"sun1.opacity = (sun1.opacity / 100) * 90;\"\\n        }\\n    }\\n}\\n\\nprint(example_dico[\"widget\"][\"window\"][\"title\"])\\nprint(example_dico[\"widget\"][\"débug\"])',\n",
       "  'import json \\njson.dumps(example_dico)',\n",
       "  'import json \\njson_string = json.dumps(example_dico)',\n",
       "  'json.loads(json_string)',\n",
       "  'pprint.pprint(json.loads(json_string))',\n",
       "  'class MonNouveauType:\\n    pass',\n",
       "  'mon_instance = MonNouveauType()\\nprint(mon_instance)',\n",
       "  'mon_instance = MonNouveauType()\\nprint(mon_instance)\\nprint(type(mon_instance))',\n",
       "  'class MaPremiereClasse:\\n    def __init__(self):\\n        print(\"dans le constructeur de ma premiere classe\")',\n",
       "  'class MaPremiereClasse:\\n    def __init__(self):\\n        print(\"dans le constructeur de ma premiere classe\")\\n    \\nmon_premier_objet = MaPremiereClasse()',\n",
       "  'class MaPremiereClasse:\\n    def __ini__(self):\\n        print(\"dans le constructeur de ma premiere classe\")\\n    \\nmon_premier_objet = MaPremiereClasse()',\n",
       "  'class MaPremiereClasse:\\n    def _init__(self):\\n        print(\"dans le constructeur de ma premiere classe\")\\n    \\nmon_premier_objet = MaPremiereClasse()',\n",
       "  'class MaPremiereClasse:\\n    def __init__(self):\\n        print(\"dans le constructeur de ma premiere classe\")\\n    \\nmon_premier_objet = MaPremiereClasse()',\n",
       "  'class MaPremiereClasse:\\n    def __init__(self):\\n        print(\"dans le constructeur de ma premiere classe\")\\n    \\nmon_premier_objet = MaPremiereClasse()',\n",
       "  'locals()'],\n",
       " '_oh': {2: [('c', 1), ('b', 2), ('a', 3)],\n",
       "  3: [('c', 1), ('b', 2), ('a', 3), ('a', 1)],\n",
       "  4: [('a', 1), ('a', 3), ('b', 2), ('c', 1)],\n",
       "  11: [('a', 3), ('b', 2), ('c', 1), ('a', 1)],\n",
       "  14: [('c', 1), ('a', 1), ('b', 2), ('a', 3)],\n",
       "  15: [('c', 1), ('a', 1), ('b', 2), ('a', 3)],\n",
       "  20: [(1, \"'\"),\n",
       "   (1, 'L'),\n",
       "   (1, 'a'),\n",
       "   (1, 'd'),\n",
       "   (1, 'l'),\n",
       "   (1, 'r'),\n",
       "   (2, '!'),\n",
       "   (2, 'n'),\n",
       "   (2, 't'),\n",
       "   (3, 'c'),\n",
       "   (3, 'e'),\n",
       "   (3, 'i'),\n",
       "   (3, 'o'),\n",
       "   (3, 's'),\n",
       "   (4, ' ')],\n",
       "  22: [(1, \"'\"),\n",
       "   (1, 'L'),\n",
       "   (1, 'a'),\n",
       "   (1, 'd'),\n",
       "   (1, 'l'),\n",
       "   (1, 'r'),\n",
       "   (2, '!'),\n",
       "   (2, 'n'),\n",
       "   (2, 't'),\n",
       "   (3, 'c'),\n",
       "   (3, 'e'),\n",
       "   (3, 'i'),\n",
       "   (3, 'o'),\n",
       "   (3, 's'),\n",
       "   (4, ' ')],\n",
       "  23: [3, 2, 1],\n",
       "  24: [(3, 'c'), (2, 'b'), (1, 'a')],\n",
       "  25: [(3, 'a'), (3, 'c'), (2, 'b'), (1, 'a')],\n",
       "  26: [(3, 'b'), (3, 'a'), (3, 'c'), (2, 'b'), (1, 'a')],\n",
       "  27: [(3, 'a'), (3, 'b'), (3, 'c'), (2, 'b'), (1, 'a')],\n",
       "  28: [(4, ' '),\n",
       "   (3, 'c'),\n",
       "   (3, 'e'),\n",
       "   (3, 'i'),\n",
       "   (3, 'o'),\n",
       "   (3, 's'),\n",
       "   (2, '!'),\n",
       "   (2, 'n'),\n",
       "   (2, 't'),\n",
       "   (1, \"'\"),\n",
       "   (1, 'L'),\n",
       "   (1, 'a'),\n",
       "   (1, 'd'),\n",
       "   (1, 'l'),\n",
       "   (1, 'r')],\n",
       "  29: [(4, ' '),\n",
       "   (3, 'c'),\n",
       "   (3, 'e'),\n",
       "   (3, 'i'),\n",
       "   (3, 'o'),\n",
       "   (3, 's'),\n",
       "   (2, '!'),\n",
       "   (2, 'n'),\n",
       "   (2, 't'),\n",
       "   (1, \"'\"),\n",
       "   (1, 'a'),\n",
       "   (1, 'd'),\n",
       "   (1, 'L'),\n",
       "   (1, 'l'),\n",
       "   (1, 'r')],\n",
       "  30: [(4, ' '),\n",
       "   (3, 'c'),\n",
       "   (3, 'e'),\n",
       "   (3, 'i'),\n",
       "   (3, 'o'),\n",
       "   (3, 's'),\n",
       "   (2, '!'),\n",
       "   (2, 'n'),\n",
       "   (2, 't'),\n",
       "   (1, \"'\"),\n",
       "   (1, 'a'),\n",
       "   (1, 'd'),\n",
       "   (1, 'L'),\n",
       "   (1, 'l'),\n",
       "   (1, 'r')],\n",
       "  31: [(4, ' '),\n",
       "   (3, 'c'),\n",
       "   (3, 'e'),\n",
       "   (3, 'i'),\n",
       "   (3, 'o'),\n",
       "   (3, 's'),\n",
       "   (2, '!'),\n",
       "   (2, 'n'),\n",
       "   (2, 't'),\n",
       "   (1, \"'\"),\n",
       "   (1, 'a'),\n",
       "   (1, 'd'),\n",
       "   (1, 'L'),\n",
       "   (1, 'l'),\n",
       "   (1, 'r')],\n",
       "  38: 'Sample Konfabulator Widget',\n",
       "  39: 'Sample Konfabulator Widget',\n",
       "  40: 'Sample Konfabulator Widget',\n",
       "  41: 'Sample Konfabulator Widget',\n",
       "  43: '{\"widget\": {\"d\\\\u00e9bug\": \"on\", \"window\": {\"title\": \"Sample Konfabulator Widget\", \"name\": \"main_window\", \"width\": 500, \"height\": 500}, \"image\": {\"src\": \"Images/Sun.png\", \"name\": \"sun1\", \"hOffset\": 250, \"vOffset\": 250, \"alignment\": \"center\"}, \"text\": {\"data\": \"Click Here\", \"size\": 36, \"style\": \"bold\", \"name\": \"text1\", \"hOffset\": 250, \"vOffset\": 100, \"alignment\": \"center\", \"onMouseUp\": \"sun1.opacity = (sun1.opacity / 100) * 90;\"}}}',\n",
       "  45: {'widget': {'débug': 'on',\n",
       "    'window': {'title': 'Sample Konfabulator Widget',\n",
       "     'name': 'main_window',\n",
       "     'width': 500,\n",
       "     'height': 500},\n",
       "    'image': {'src': 'Images/Sun.png',\n",
       "     'name': 'sun1',\n",
       "     'hOffset': 250,\n",
       "     'vOffset': 250,\n",
       "     'alignment': 'center'},\n",
       "    'text': {'data': 'Click Here',\n",
       "     'size': 36,\n",
       "     'style': 'bold',\n",
       "     'name': 'text1',\n",
       "     'hOffset': 250,\n",
       "     'vOffset': 100,\n",
       "     'alignment': 'center',\n",
       "     'onMouseUp': 'sun1.opacity = (sun1.opacity / 100) * 90;'}}}},\n",
       " '_dh': ['C:\\\\Users\\\\33612\\\\Desktop\\\\orsys_pyt_cv_novembre_2021\\\\tape_en_cours\\\\Jour 3'],\n",
       " 'In': ['',\n",
       "  'l = [(\"a\", 3), (\"b\", 2), (\"c\", 1)]\\nsorted(l, reversed=True)',\n",
       "  'l = [(\"a\", 3), (\"b\", 2), (\"c\", 1)]\\nsorted(l, reverse=True)',\n",
       "  'l = [(\"a\", 3), (\"b\", 2), (\"c\", 1), (\"a\", 1)]\\nsorted(l, reverse=True)',\n",
       "  'l = [(\"a\", 3), (\"b\", 2), (\"c\", 1), (\"a\", 1)]\\nsorted(l)',\n",
       "  'help(sorted)',\n",
       "  'def sort(a, b, key):\\n    if key(a) < key(b):\\n        return a, b\\n    else:\\n        return b, a',\n",
       "  'def my_key_function(a, b):\\n    pass\\n\\nl = [(\"a\", 3), (\"b\", 2), (\"c\", 1), (\"a\", 1)]\\nsorted(l, key=my_key_function())',\n",
       "  'def my_key_function(a, b):\\n    pass\\n\\nl = [(\"a\", 3), (\"b\", 2), (\"c\", 1), (\"a\", 1)]\\nsorted(l, key=my_key_function(a, b))',\n",
       "  'def my_key_function(a, b):\\n    pass\\n\\nl = [(\"a\", 3), (\"b\", 2), (\"c\", 1), (\"a\", 1)]\\nsorted(l, key=my_key_function)',\n",
       "  'def my_key_function(item):\\n    pass\\n\\nl = [(\"a\", 3), (\"b\", 2), (\"c\", 1), (\"a\", 1)]\\nsorted(l, key=my_key_function)',\n",
       "  'def my_key_function(item):\\n    return \"toto\"\\n\\nl = [(\"a\", 3), (\"b\", 2), (\"c\", 1), (\"a\", 1)]\\nsorted(l, key=my_key_function)',\n",
       "  'def my_key_function(item):\\n    print(item)\\n    return None\\n\\nl = [(\"a\", 3), (\"b\", 2), (\"c\", 1), (\"a\", 1)]\\nsorted(l, key=my_key_function)',\n",
       "  'def my_key_function(item):\\n    print(item)\\n    return return[1]\\n\\nl = [(\"a\", 3), (\"b\", 2), (\"c\", 1), (\"a\", 1)]\\nsorted(l, key=my_key_function)',\n",
       "  'def my_key_function(item):\\n    print(item)\\n    return item[1]\\n\\nl = [(\"a\", 3), (\"b\", 2), (\"c\", 1), (\"a\", 1)]\\nsorted(l, key=my_key_function)',\n",
       "  'def my_key_function(item):\\n    return item[1]\\n\\nl = [(\"a\", 3), (\"b\", 2), (\"c\", 1), (\"a\", 1)]\\nsorted(l, key= lambda item: item[1])',\n",
       "  'sorted([(valeur, cle) for cle, valeur in compteur.items()])',\n",
       "  '# chaine = \"\"\"Les dictionnaires c\\'est cool !!\\n# Et les chaines ça tient sur plusieurs lignes. \\n# C\\'est cool\"\"\"\\n\\nchaine = \"Les dictionnaires c\\'est cool !!\"\\nprint(repr(chaine))',\n",
       "  'sorted([(valeur, cle) for cle, valeur in compteur.items()])',\n",
       "  'compteur = {}\\nfor lettre in chaine:\\n    if lettre in compteur:\\n        compteur[lettre] = compteur[lettre] + 1\\n    else:\\n        compteur[lettre] = 1\\nprint(compteur)',\n",
       "  'sorted([(valeur, cle) for cle, valeur in compteur.items()])',\n",
       "  'def my_key(item):\\n    print(item)\\n    return item\\n\\nvalues = [(valeur, cle) for cle, valeur in compteur.items()]\\nsorted(valeus, key=my_key)',\n",
       "  'def my_key(item):\\n    print(item)\\n    return item\\n\\nvalues = [(valeur, cle) for cle, valeur in compteur.items()]\\nsorted(values, key=my_key)',\n",
       "  'sorted([1, 2, 3], key=lambda item: -1*item)',\n",
       "  'values = [(1, \"a\"), (2, \"b\"), (3, \"c\")]\\nsorted(values, key=lambda item: -1*item[0])',\n",
       "  'values = [(1, \"a\"), (3, \"a\"), (2, \"b\"), (3, \"c\")]\\nsorted(values, key=lambda item: -1*item[0])',\n",
       "  'values = [(1, \"a\"), (3, \"b\"), (3, \"a\"), (2, \"b\"), (3, \"c\")]\\nsorted(values, key=lambda item: -1*item[0])',\n",
       "  'values = [(1, \"a\"), (3, \"b\"), (3, \"a\"), (2, \"b\"), (3, \"c\")]\\nsorted(values, key=lambda item: (-1*item[0], item[1]))',\n",
       "  'def my_key(item):\\n    print(item)\\n    return -1*item[0], item[1]\\n\\nvalues = [(valeur, cle) for cle, valeur in compteur.items()]\\nsorted(values, key=my_key)',\n",
       "  'def my_key(item):\\n    print(item)\\n    return -1*item[0], item[1].lower()\\n\\nvalues = [(valeur, cle) for cle, valeur in compteur.items()]\\nsorted(values, key=my_key)',\n",
       "  'def my_key(item):\\n    return -1*item[0], item[1].lower()\\n\\nvalues = [(valeur, cle) for cle, valeur in compteur.items()]\\nsorted(values, key=my_key)',\n",
       "  'def my_key(item):\\n    return -1*item[0], item[1].lower()\\n\\nvalues = [(valeur, cle) for cle, valeur in compteur.items()]\\nsorted(values, key=my_key)',\n",
       "  'import pprint\\n\\nvalues = [(1, \"a\"), (3, \"b\"), (3, \"a\"), (2, \"b\"), (3, \"c\")]\\npprint.pprint(sorted(values, key=lambda item: (-1*item[0], item[1])))',\n",
       "  \"get_ipython().run_line_magic('pinfo', 'pprint.pprint')\",\n",
       "  'import pprint\\n\\nvalues = [(1, \"a\"), (3, \"b\"), (3, \"a\"), (2, \"b\"), (3, \"c\")]\\npprint.pprint(sorted(values, key=lambda item: (-1*item[0], item[1])), width=20)',\n",
       "  'import pprint\\n\\nvalues = [(1, \"a\"), (3, \"b\"), (3, \"a\"), (2, \"b\"), (3, \"c\")]\\npprint.pprint(sorted(values, key=lambda item: (-1*item[0], item[1])), width=20, indent=4)',\n",
       "  'import pprint\\n\\nvalues = [(1, \"a\"), (3, \"b\"), (3, \"a\"), (2, \"b\"), (3, \"c\")]\\npprint.pprint(sorted(values, key=lambda item: (-1*item[0], item[1])), width=20)',\n",
       "  'example_dico = {\\n    \"widget\": {\\n        \"debug\": \"on\",\\n        \"window\": {\\n            \"title\": \"Sample Konfabulator Widget\",\\n            \"name\": \"main_window\",\\n            \"width\": 500,\\n            \"height\": 500\\n        },\\n        \"image\": {\\n            \"src\": \"Images/Sun.png\",\\n            \"name\": \"sun1\",\\n            \"hOffset\": 250,\\n            \"vOffset\": 250,\\n            \"alignment\": \"center\"\\n        },\\n        \"text\": {\\n            \"data\": \"Click Here\",\\n            \"size\": 36,\\n            \"style\": \"bold\",\\n            \"name\": \"text1\",\\n            \"hOffset\": 250,\\n            \"vOffset\": 100,\\n            \"alignment\": \"center\",\\n            \"onMouseUp\": \"sun1.opacity = (sun1.opacity / 100) * 90;\"\\n        }\\n    }\\n}',\n",
       "  'example_dico = {\\n    \"widget\": {\\n        \"debug\": \"on\",\\n        \"window\": {\\n            \"title\": \"Sample Konfabulator Widget\",\\n            \"name\": \"main_window\",\\n            \"width\": 500,\\n            \"height\": 500\\n        },\\n        \"image\": {\\n            \"src\": \"Images/Sun.png\",\\n            \"name\": \"sun1\",\\n            \"hOffset\": 250,\\n            \"vOffset\": 250,\\n            \"alignment\": \"center\"\\n        },\\n        \"text\": {\\n            \"data\": \"Click Here\",\\n            \"size\": 36,\\n            \"style\": \"bold\",\\n            \"name\": \"text1\",\\n            \"hOffset\": 250,\\n            \"vOffset\": 100,\\n            \"alignment\": \"center\",\\n            \"onMouseUp\": \"sun1.opacity = (sun1.opacity / 100) * 90;\"\\n        }\\n    }\\n}\\nexample_dico[\"widget\"][\"window\"][\"title\"]',\n",
       "  'example_dico = {\\n    \"widget\": {\\n        \"débug\": \"on\",\\n        \"window\": {\\n            \"title\": \"Sample Konfabulator Widget\",\\n            \"name\": \"main_window\",\\n            \"width\": 500,\\n            \"height\": 500\\n        },\\n        \"image\": {\\n            \"src\": \"Images/Sun.png\",\\n            \"name\": \"sun1\",\\n            \"hOffset\": 250,\\n            \"vOffset\": 250,\\n            \"alignment\": \"center\"\\n        },\\n        \"text\": {\\n            \"data\": \"Click Here\",\\n            \"size\": 36,\\n            \"style\": \"bold\",\\n            \"name\": \"text1\",\\n            \"hOffset\": 250,\\n            \"vOffset\": 100,\\n            \"alignment\": \"center\",\\n            \"onMouseUp\": \"sun1.opacity = (sun1.opacity / 100) * 90;\"\\n        }\\n    }\\n}\\nexample_dico[\"widget\"][\"window\"][\"title\"]',\n",
       "  'example_dico = {\\n    \"widget\": {\\n        \"debug\": \"on\",\\n        \"window\": {\\n            \"title\": \"Sample Konfabulator Widget\",\\n            \"name\": \"main_window\",\\n            \"width\": 500,\\n            \"height\": 500\\n        },\\n        \"image\": {\\n            \"src\": \"Images/Sun.png\",\\n            \"name\": \"sun1\",\\n            \"hOffset\": 250,\\n            \"vOffset\": 250,\\n            \"alignment\": \"center\"\\n        },\\n        \"text\": {\\n            \"data\": \"Click Here\",\\n            \"size\": 36,\\n            \"style\": \"bold\",\\n            \"name\": \"text1\",\\n            \"hOffset\": 250,\\n            \"vOffset\": 100,\\n            \"alignment\": \"center\",\\n            \"onMouseUp\": \"sun1.opacity = (sun1.opacity / 100) * 90;\"\\n        }\\n    }\\n}\\nexample_dico[\"widget\"][\"window\"][\"title\"]',\n",
       "  'example_dico = {\\n    \"widget\": {\\n        \"débug\": \"on\",\\n        \"window\": {\\n            \"title\": \"Sample Konfabulator Widget\",\\n            \"name\": \"main_window\",\\n            \"width\": 500,\\n            \"height\": 500\\n        },\\n        \"image\": {\\n            \"src\": \"Images/Sun.png\",\\n            \"name\": \"sun1\",\\n            \"hOffset\": 250,\\n            \"vOffset\": 250,\\n            \"alignment\": \"center\"\\n        },\\n        \"text\": {\\n            \"data\": \"Click Here\",\\n            \"size\": 36,\\n            \"style\": \"bold\",\\n            \"name\": \"text1\",\\n            \"hOffset\": 250,\\n            \"vOffset\": 100,\\n            \"alignment\": \"center\",\\n            \"onMouseUp\": \"sun1.opacity = (sun1.opacity / 100) * 90;\"\\n        }\\n    }\\n}\\nexample_dico[\"widget\"][\"window\"][\"title\"]',\n",
       "  'example_dico = {\\n    \"widget\": {\\n        \"débug\": \"on\",\\n        \"window\": {\\n            \"title\": \"Sample Konfabulator Widget\",\\n            \"name\": \"main_window\",\\n            \"width\": 500,\\n            \"height\": 500\\n        },\\n        \"image\": {\\n            \"src\": \"Images/Sun.png\",\\n            \"name\": \"sun1\",\\n            \"hOffset\": 250,\\n            \"vOffset\": 250,\\n            \"alignment\": \"center\"\\n        },\\n        \"text\": {\\n            \"data\": \"Click Here\",\\n            \"size\": 36,\\n            \"style\": \"bold\",\\n            \"name\": \"text1\",\\n            \"hOffset\": 250,\\n            \"vOffset\": 100,\\n            \"alignment\": \"center\",\\n            \"onMouseUp\": \"sun1.opacity = (sun1.opacity / 100) * 90;\"\\n        }\\n    }\\n}\\n\\nprint(example_dico[\"widget\"][\"window\"][\"title\"])\\nprint(example_dico[\"widget\"][\"débug\"])',\n",
       "  'import json \\njson.dumps(example_dico)',\n",
       "  'import json \\njson_string = json.dumps(example_dico)',\n",
       "  'json.loads(json_string)',\n",
       "  'pprint.pprint(json.loads(json_string))',\n",
       "  'class MonNouveauType:\\n    pass',\n",
       "  'mon_instance = MonNouveauType()\\nprint(mon_instance)',\n",
       "  'mon_instance = MonNouveauType()\\nprint(mon_instance)\\nprint(type(mon_instance))',\n",
       "  'class MaPremiereClasse:\\n    def __init__(self):\\n        print(\"dans le constructeur de ma premiere classe\")',\n",
       "  'class MaPremiereClasse:\\n    def __init__(self):\\n        print(\"dans le constructeur de ma premiere classe\")\\n    \\nmon_premier_objet = MaPremiereClasse()',\n",
       "  'class MaPremiereClasse:\\n    def __ini__(self):\\n        print(\"dans le constructeur de ma premiere classe\")\\n    \\nmon_premier_objet = MaPremiereClasse()',\n",
       "  'class MaPremiereClasse:\\n    def _init__(self):\\n        print(\"dans le constructeur de ma premiere classe\")\\n    \\nmon_premier_objet = MaPremiereClasse()',\n",
       "  'class MaPremiereClasse:\\n    def __init__(self):\\n        print(\"dans le constructeur de ma premiere classe\")\\n    \\nmon_premier_objet = MaPremiereClasse()',\n",
       "  'class MaPremiereClasse:\\n    def __init__(self):\\n        print(\"dans le constructeur de ma premiere classe\")\\n    \\nmon_premier_objet = MaPremiereClasse()',\n",
       "  'locals()'],\n",
       " 'Out': {2: [('c', 1), ('b', 2), ('a', 3)],\n",
       "  3: [('c', 1), ('b', 2), ('a', 3), ('a', 1)],\n",
       "  4: [('a', 1), ('a', 3), ('b', 2), ('c', 1)],\n",
       "  11: [('a', 3), ('b', 2), ('c', 1), ('a', 1)],\n",
       "  14: [('c', 1), ('a', 1), ('b', 2), ('a', 3)],\n",
       "  15: [('c', 1), ('a', 1), ('b', 2), ('a', 3)],\n",
       "  20: [(1, \"'\"),\n",
       "   (1, 'L'),\n",
       "   (1, 'a'),\n",
       "   (1, 'd'),\n",
       "   (1, 'l'),\n",
       "   (1, 'r'),\n",
       "   (2, '!'),\n",
       "   (2, 'n'),\n",
       "   (2, 't'),\n",
       "   (3, 'c'),\n",
       "   (3, 'e'),\n",
       "   (3, 'i'),\n",
       "   (3, 'o'),\n",
       "   (3, 's'),\n",
       "   (4, ' ')],\n",
       "  22: [(1, \"'\"),\n",
       "   (1, 'L'),\n",
       "   (1, 'a'),\n",
       "   (1, 'd'),\n",
       "   (1, 'l'),\n",
       "   (1, 'r'),\n",
       "   (2, '!'),\n",
       "   (2, 'n'),\n",
       "   (2, 't'),\n",
       "   (3, 'c'),\n",
       "   (3, 'e'),\n",
       "   (3, 'i'),\n",
       "   (3, 'o'),\n",
       "   (3, 's'),\n",
       "   (4, ' ')],\n",
       "  23: [3, 2, 1],\n",
       "  24: [(3, 'c'), (2, 'b'), (1, 'a')],\n",
       "  25: [(3, 'a'), (3, 'c'), (2, 'b'), (1, 'a')],\n",
       "  26: [(3, 'b'), (3, 'a'), (3, 'c'), (2, 'b'), (1, 'a')],\n",
       "  27: [(3, 'a'), (3, 'b'), (3, 'c'), (2, 'b'), (1, 'a')],\n",
       "  28: [(4, ' '),\n",
       "   (3, 'c'),\n",
       "   (3, 'e'),\n",
       "   (3, 'i'),\n",
       "   (3, 'o'),\n",
       "   (3, 's'),\n",
       "   (2, '!'),\n",
       "   (2, 'n'),\n",
       "   (2, 't'),\n",
       "   (1, \"'\"),\n",
       "   (1, 'L'),\n",
       "   (1, 'a'),\n",
       "   (1, 'd'),\n",
       "   (1, 'l'),\n",
       "   (1, 'r')],\n",
       "  29: [(4, ' '),\n",
       "   (3, 'c'),\n",
       "   (3, 'e'),\n",
       "   (3, 'i'),\n",
       "   (3, 'o'),\n",
       "   (3, 's'),\n",
       "   (2, '!'),\n",
       "   (2, 'n'),\n",
       "   (2, 't'),\n",
       "   (1, \"'\"),\n",
       "   (1, 'a'),\n",
       "   (1, 'd'),\n",
       "   (1, 'L'),\n",
       "   (1, 'l'),\n",
       "   (1, 'r')],\n",
       "  30: [(4, ' '),\n",
       "   (3, 'c'),\n",
       "   (3, 'e'),\n",
       "   (3, 'i'),\n",
       "   (3, 'o'),\n",
       "   (3, 's'),\n",
       "   (2, '!'),\n",
       "   (2, 'n'),\n",
       "   (2, 't'),\n",
       "   (1, \"'\"),\n",
       "   (1, 'a'),\n",
       "   (1, 'd'),\n",
       "   (1, 'L'),\n",
       "   (1, 'l'),\n",
       "   (1, 'r')],\n",
       "  31: [(4, ' '),\n",
       "   (3, 'c'),\n",
       "   (3, 'e'),\n",
       "   (3, 'i'),\n",
       "   (3, 'o'),\n",
       "   (3, 's'),\n",
       "   (2, '!'),\n",
       "   (2, 'n'),\n",
       "   (2, 't'),\n",
       "   (1, \"'\"),\n",
       "   (1, 'a'),\n",
       "   (1, 'd'),\n",
       "   (1, 'L'),\n",
       "   (1, 'l'),\n",
       "   (1, 'r')],\n",
       "  38: 'Sample Konfabulator Widget',\n",
       "  39: 'Sample Konfabulator Widget',\n",
       "  40: 'Sample Konfabulator Widget',\n",
       "  41: 'Sample Konfabulator Widget',\n",
       "  43: '{\"widget\": {\"d\\\\u00e9bug\": \"on\", \"window\": {\"title\": \"Sample Konfabulator Widget\", \"name\": \"main_window\", \"width\": 500, \"height\": 500}, \"image\": {\"src\": \"Images/Sun.png\", \"name\": \"sun1\", \"hOffset\": 250, \"vOffset\": 250, \"alignment\": \"center\"}, \"text\": {\"data\": \"Click Here\", \"size\": 36, \"style\": \"bold\", \"name\": \"text1\", \"hOffset\": 250, \"vOffset\": 100, \"alignment\": \"center\", \"onMouseUp\": \"sun1.opacity = (sun1.opacity / 100) * 90;\"}}}',\n",
       "  45: {'widget': {'débug': 'on',\n",
       "    'window': {'title': 'Sample Konfabulator Widget',\n",
       "     'name': 'main_window',\n",
       "     'width': 500,\n",
       "     'height': 500},\n",
       "    'image': {'src': 'Images/Sun.png',\n",
       "     'name': 'sun1',\n",
       "     'hOffset': 250,\n",
       "     'vOffset': 250,\n",
       "     'alignment': 'center'},\n",
       "    'text': {'data': 'Click Here',\n",
       "     'size': 36,\n",
       "     'style': 'bold',\n",
       "     'name': 'text1',\n",
       "     'hOffset': 250,\n",
       "     'vOffset': 100,\n",
       "     'alignment': 'center',\n",
       "     'onMouseUp': 'sun1.opacity = (sun1.opacity / 100) * 90;'}}}},\n",
       " 'get_ipython': <bound method InteractiveShell.get_ipython of <ipykernel.zmqshell.ZMQInteractiveShell object at 0x0000021C821C3FD0>>,\n",
       " 'exit': <IPython.core.autocall.ZMQExitAutocall at 0x21c821e6730>,\n",
       " 'quit': <IPython.core.autocall.ZMQExitAutocall at 0x21c821e6730>,\n",
       " '_': {'widget': {'débug': 'on',\n",
       "   'window': {'title': 'Sample Konfabulator Widget',\n",
       "    'name': 'main_window',\n",
       "    'width': 500,\n",
       "    'height': 500},\n",
       "   'image': {'src': 'Images/Sun.png',\n",
       "    'name': 'sun1',\n",
       "    'hOffset': 250,\n",
       "    'vOffset': 250,\n",
       "    'alignment': 'center'},\n",
       "   'text': {'data': 'Click Here',\n",
       "    'size': 36,\n",
       "    'style': 'bold',\n",
       "    'name': 'text1',\n",
       "    'hOffset': 250,\n",
       "    'vOffset': 100,\n",
       "    'alignment': 'center',\n",
       "    'onMouseUp': 'sun1.opacity = (sun1.opacity / 100) * 90;'}}},\n",
       " '__': '{\"widget\": {\"d\\\\u00e9bug\": \"on\", \"window\": {\"title\": \"Sample Konfabulator Widget\", \"name\": \"main_window\", \"width\": 500, \"height\": 500}, \"image\": {\"src\": \"Images/Sun.png\", \"name\": \"sun1\", \"hOffset\": 250, \"vOffset\": 250, \"alignment\": \"center\"}, \"text\": {\"data\": \"Click Here\", \"size\": 36, \"style\": \"bold\", \"name\": \"text1\", \"hOffset\": 250, \"vOffset\": 100, \"alignment\": \"center\", \"onMouseUp\": \"sun1.opacity = (sun1.opacity / 100) * 90;\"}}}',\n",
       " '___': 'Sample Konfabulator Widget',\n",
       " '_i': 'class MaPremiereClasse:\\n    def __init__(self):\\n        print(\"dans le constructeur de ma premiere classe\")\\n    \\nmon_premier_objet = MaPremiereClasse()',\n",
       " '_ii': 'class MaPremiereClasse:\\n    def __init__(self):\\n        print(\"dans le constructeur de ma premiere classe\")\\n    \\nmon_premier_objet = MaPremiereClasse()',\n",
       " '_iii': 'class MaPremiereClasse:\\n    def _init__(self):\\n        print(\"dans le constructeur de ma premiere classe\")\\n    \\nmon_premier_objet = MaPremiereClasse()',\n",
       " '_i1': 'l = [(\"a\", 3), (\"b\", 2), (\"c\", 1)]\\nsorted(l, reversed=True)',\n",
       " 'l': [('a', 3), ('b', 2), ('c', 1), ('a', 1)],\n",
       " '_i2': 'l = [(\"a\", 3), (\"b\", 2), (\"c\", 1)]\\nsorted(l, reverse=True)',\n",
       " '_2': [('c', 1), ('b', 2), ('a', 3)],\n",
       " '_i3': 'l = [(\"a\", 3), (\"b\", 2), (\"c\", 1), (\"a\", 1)]\\nsorted(l, reverse=True)',\n",
       " '_3': [('c', 1), ('b', 2), ('a', 3), ('a', 1)],\n",
       " '_i4': 'l = [(\"a\", 3), (\"b\", 2), (\"c\", 1), (\"a\", 1)]\\nsorted(l)',\n",
       " '_4': [('a', 1), ('a', 3), ('b', 2), ('c', 1)],\n",
       " '_i5': 'help(sorted)',\n",
       " '_i6': 'def sort(a, b, key):\\n    if key(a) < key(b):\\n        return a, b\\n    else:\\n        return b, a',\n",
       " 'sort': <function __main__.sort(a, b, key)>,\n",
       " '_i7': 'def my_key_function(a, b):\\n    pass\\n\\nl = [(\"a\", 3), (\"b\", 2), (\"c\", 1), (\"a\", 1)]\\nsorted(l, key=my_key_function())',\n",
       " 'my_key_function': <function __main__.my_key_function(item)>,\n",
       " '_i8': 'def my_key_function(a, b):\\n    pass\\n\\nl = [(\"a\", 3), (\"b\", 2), (\"c\", 1), (\"a\", 1)]\\nsorted(l, key=my_key_function(a, b))',\n",
       " '_i9': 'def my_key_function(a, b):\\n    pass\\n\\nl = [(\"a\", 3), (\"b\", 2), (\"c\", 1), (\"a\", 1)]\\nsorted(l, key=my_key_function)',\n",
       " '_i10': 'def my_key_function(item):\\n    pass\\n\\nl = [(\"a\", 3), (\"b\", 2), (\"c\", 1), (\"a\", 1)]\\nsorted(l, key=my_key_function)',\n",
       " '_i11': 'def my_key_function(item):\\n    return \"toto\"\\n\\nl = [(\"a\", 3), (\"b\", 2), (\"c\", 1), (\"a\", 1)]\\nsorted(l, key=my_key_function)',\n",
       " '_11': [('a', 3), ('b', 2), ('c', 1), ('a', 1)],\n",
       " '_i12': 'def my_key_function(item):\\n    print(item)\\n    return None\\n\\nl = [(\"a\", 3), (\"b\", 2), (\"c\", 1), (\"a\", 1)]\\nsorted(l, key=my_key_function)',\n",
       " '_i13': 'def my_key_function(item):\\n    print(item)\\n    return return[1]\\n\\nl = [(\"a\", 3), (\"b\", 2), (\"c\", 1), (\"a\", 1)]\\nsorted(l, key=my_key_function)',\n",
       " '_i14': 'def my_key_function(item):\\n    print(item)\\n    return item[1]\\n\\nl = [(\"a\", 3), (\"b\", 2), (\"c\", 1), (\"a\", 1)]\\nsorted(l, key=my_key_function)',\n",
       " '_14': [('c', 1), ('a', 1), ('b', 2), ('a', 3)],\n",
       " '_i15': 'def my_key_function(item):\\n    return item[1]\\n\\nl = [(\"a\", 3), (\"b\", 2), (\"c\", 1), (\"a\", 1)]\\nsorted(l, key= lambda item: item[1])',\n",
       " '_15': [('c', 1), ('a', 1), ('b', 2), ('a', 3)],\n",
       " '_i16': 'sorted([(valeur, cle) for cle, valeur in compteur.items()])',\n",
       " '_i17': '# chaine = \"\"\"Les dictionnaires c\\'est cool !!\\n# Et les chaines ça tient sur plusieurs lignes. \\n# C\\'est cool\"\"\"\\n\\nchaine = \"Les dictionnaires c\\'est cool !!\"\\nprint(repr(chaine))',\n",
       " 'chaine': \"Les dictionnaires c'est cool !!\",\n",
       " '_i18': 'sorted([(valeur, cle) for cle, valeur in compteur.items()])',\n",
       " '_i19': 'compteur = {}\\nfor lettre in chaine:\\n    if lettre in compteur:\\n        compteur[lettre] = compteur[lettre] + 1\\n    else:\\n        compteur[lettre] = 1\\nprint(compteur)',\n",
       " 'compteur': {'L': 1,\n",
       "  'e': 3,\n",
       "  's': 3,\n",
       "  ' ': 4,\n",
       "  'd': 1,\n",
       "  'i': 3,\n",
       "  'c': 3,\n",
       "  't': 2,\n",
       "  'o': 3,\n",
       "  'n': 2,\n",
       "  'a': 1,\n",
       "  'r': 1,\n",
       "  \"'\": 1,\n",
       "  'l': 1,\n",
       "  '!': 2},\n",
       " 'lettre': '!',\n",
       " '_i20': 'sorted([(valeur, cle) for cle, valeur in compteur.items()])',\n",
       " '_20': [(1, \"'\"),\n",
       "  (1, 'L'),\n",
       "  (1, 'a'),\n",
       "  (1, 'd'),\n",
       "  (1, 'l'),\n",
       "  (1, 'r'),\n",
       "  (2, '!'),\n",
       "  (2, 'n'),\n",
       "  (2, 't'),\n",
       "  (3, 'c'),\n",
       "  (3, 'e'),\n",
       "  (3, 'i'),\n",
       "  (3, 'o'),\n",
       "  (3, 's'),\n",
       "  (4, ' ')],\n",
       " '_i21': 'def my_key(item):\\n    print(item)\\n    return item\\n\\nvalues = [(valeur, cle) for cle, valeur in compteur.items()]\\nsorted(valeus, key=my_key)',\n",
       " 'my_key': <function __main__.my_key(item)>,\n",
       " 'values': [(1, 'a'), (3, 'b'), (3, 'a'), (2, 'b'), (3, 'c')],\n",
       " '_i22': 'def my_key(item):\\n    print(item)\\n    return item\\n\\nvalues = [(valeur, cle) for cle, valeur in compteur.items()]\\nsorted(values, key=my_key)',\n",
       " '_22': [(1, \"'\"),\n",
       "  (1, 'L'),\n",
       "  (1, 'a'),\n",
       "  (1, 'd'),\n",
       "  (1, 'l'),\n",
       "  (1, 'r'),\n",
       "  (2, '!'),\n",
       "  (2, 'n'),\n",
       "  (2, 't'),\n",
       "  (3, 'c'),\n",
       "  (3, 'e'),\n",
       "  (3, 'i'),\n",
       "  (3, 'o'),\n",
       "  (3, 's'),\n",
       "  (4, ' ')],\n",
       " '_i23': 'sorted([1, 2, 3], key=lambda item: -1*item)',\n",
       " '_23': [3, 2, 1],\n",
       " '_i24': 'values = [(1, \"a\"), (2, \"b\"), (3, \"c\")]\\nsorted(values, key=lambda item: -1*item[0])',\n",
       " '_24': [(3, 'c'), (2, 'b'), (1, 'a')],\n",
       " '_i25': 'values = [(1, \"a\"), (3, \"a\"), (2, \"b\"), (3, \"c\")]\\nsorted(values, key=lambda item: -1*item[0])',\n",
       " '_25': [(3, 'a'), (3, 'c'), (2, 'b'), (1, 'a')],\n",
       " '_i26': 'values = [(1, \"a\"), (3, \"b\"), (3, \"a\"), (2, \"b\"), (3, \"c\")]\\nsorted(values, key=lambda item: -1*item[0])',\n",
       " '_26': [(3, 'b'), (3, 'a'), (3, 'c'), (2, 'b'), (1, 'a')],\n",
       " '_i27': 'values = [(1, \"a\"), (3, \"b\"), (3, \"a\"), (2, \"b\"), (3, \"c\")]\\nsorted(values, key=lambda item: (-1*item[0], item[1]))',\n",
       " '_27': [(3, 'a'), (3, 'b'), (3, 'c'), (2, 'b'), (1, 'a')],\n",
       " '_i28': 'def my_key(item):\\n    print(item)\\n    return -1*item[0], item[1]\\n\\nvalues = [(valeur, cle) for cle, valeur in compteur.items()]\\nsorted(values, key=my_key)',\n",
       " '_28': [(4, ' '),\n",
       "  (3, 'c'),\n",
       "  (3, 'e'),\n",
       "  (3, 'i'),\n",
       "  (3, 'o'),\n",
       "  (3, 's'),\n",
       "  (2, '!'),\n",
       "  (2, 'n'),\n",
       "  (2, 't'),\n",
       "  (1, \"'\"),\n",
       "  (1, 'L'),\n",
       "  (1, 'a'),\n",
       "  (1, 'd'),\n",
       "  (1, 'l'),\n",
       "  (1, 'r')],\n",
       " '_i29': 'def my_key(item):\\n    print(item)\\n    return -1*item[0], item[1].lower()\\n\\nvalues = [(valeur, cle) for cle, valeur in compteur.items()]\\nsorted(values, key=my_key)',\n",
       " '_29': [(4, ' '),\n",
       "  (3, 'c'),\n",
       "  (3, 'e'),\n",
       "  (3, 'i'),\n",
       "  (3, 'o'),\n",
       "  (3, 's'),\n",
       "  (2, '!'),\n",
       "  (2, 'n'),\n",
       "  (2, 't'),\n",
       "  (1, \"'\"),\n",
       "  (1, 'a'),\n",
       "  (1, 'd'),\n",
       "  (1, 'L'),\n",
       "  (1, 'l'),\n",
       "  (1, 'r')],\n",
       " '_i30': 'def my_key(item):\\n    return -1*item[0], item[1].lower()\\n\\nvalues = [(valeur, cle) for cle, valeur in compteur.items()]\\nsorted(values, key=my_key)',\n",
       " '_30': [(4, ' '),\n",
       "  (3, 'c'),\n",
       "  (3, 'e'),\n",
       "  (3, 'i'),\n",
       "  (3, 'o'),\n",
       "  (3, 's'),\n",
       "  (2, '!'),\n",
       "  (2, 'n'),\n",
       "  (2, 't'),\n",
       "  (1, \"'\"),\n",
       "  (1, 'a'),\n",
       "  (1, 'd'),\n",
       "  (1, 'L'),\n",
       "  (1, 'l'),\n",
       "  (1, 'r')],\n",
       " '_i31': 'def my_key(item):\\n    return -1*item[0], item[1].lower()\\n\\nvalues = [(valeur, cle) for cle, valeur in compteur.items()]\\nsorted(values, key=my_key)',\n",
       " '_31': [(4, ' '),\n",
       "  (3, 'c'),\n",
       "  (3, 'e'),\n",
       "  (3, 'i'),\n",
       "  (3, 'o'),\n",
       "  (3, 's'),\n",
       "  (2, '!'),\n",
       "  (2, 'n'),\n",
       "  (2, 't'),\n",
       "  (1, \"'\"),\n",
       "  (1, 'a'),\n",
       "  (1, 'd'),\n",
       "  (1, 'L'),\n",
       "  (1, 'l'),\n",
       "  (1, 'r')],\n",
       " '_i32': 'import pprint\\n\\nvalues = [(1, \"a\"), (3, \"b\"), (3, \"a\"), (2, \"b\"), (3, \"c\")]\\npprint.pprint(sorted(values, key=lambda item: (-1*item[0], item[1])))',\n",
       " 'pprint': <module 'pprint' from 'C:\\\\Python38\\\\lib\\\\pprint.py'>,\n",
       " '_i33': 'pprint.pprint?',\n",
       " '_i34': 'import pprint\\n\\nvalues = [(1, \"a\"), (3, \"b\"), (3, \"a\"), (2, \"b\"), (3, \"c\")]\\npprint.pprint(sorted(values, key=lambda item: (-1*item[0], item[1])), width=20)',\n",
       " '_i35': 'import pprint\\n\\nvalues = [(1, \"a\"), (3, \"b\"), (3, \"a\"), (2, \"b\"), (3, \"c\")]\\npprint.pprint(sorted(values, key=lambda item: (-1*item[0], item[1])), width=20, indent=4)',\n",
       " '_i36': 'import pprint\\n\\nvalues = [(1, \"a\"), (3, \"b\"), (3, \"a\"), (2, \"b\"), (3, \"c\")]\\npprint.pprint(sorted(values, key=lambda item: (-1*item[0], item[1])), width=20)',\n",
       " '_i37': 'example_dico = {\\n    \"widget\": {\\n        \"debug\": \"on\",\\n        \"window\": {\\n            \"title\": \"Sample Konfabulator Widget\",\\n            \"name\": \"main_window\",\\n            \"width\": 500,\\n            \"height\": 500\\n        },\\n        \"image\": {\\n            \"src\": \"Images/Sun.png\",\\n            \"name\": \"sun1\",\\n            \"hOffset\": 250,\\n            \"vOffset\": 250,\\n            \"alignment\": \"center\"\\n        },\\n        \"text\": {\\n            \"data\": \"Click Here\",\\n            \"size\": 36,\\n            \"style\": \"bold\",\\n            \"name\": \"text1\",\\n            \"hOffset\": 250,\\n            \"vOffset\": 100,\\n            \"alignment\": \"center\",\\n            \"onMouseUp\": \"sun1.opacity = (sun1.opacity / 100) * 90;\"\\n        }\\n    }\\n}',\n",
       " 'example_dico': {'widget': {'débug': 'on',\n",
       "   'window': {'title': 'Sample Konfabulator Widget',\n",
       "    'name': 'main_window',\n",
       "    'width': 500,\n",
       "    'height': 500},\n",
       "   'image': {'src': 'Images/Sun.png',\n",
       "    'name': 'sun1',\n",
       "    'hOffset': 250,\n",
       "    'vOffset': 250,\n",
       "    'alignment': 'center'},\n",
       "   'text': {'data': 'Click Here',\n",
       "    'size': 36,\n",
       "    'style': 'bold',\n",
       "    'name': 'text1',\n",
       "    'hOffset': 250,\n",
       "    'vOffset': 100,\n",
       "    'alignment': 'center',\n",
       "    'onMouseUp': 'sun1.opacity = (sun1.opacity / 100) * 90;'}}},\n",
       " '_i38': 'example_dico = {\\n    \"widget\": {\\n        \"debug\": \"on\",\\n        \"window\": {\\n            \"title\": \"Sample Konfabulator Widget\",\\n            \"name\": \"main_window\",\\n            \"width\": 500,\\n            \"height\": 500\\n        },\\n        \"image\": {\\n            \"src\": \"Images/Sun.png\",\\n            \"name\": \"sun1\",\\n            \"hOffset\": 250,\\n            \"vOffset\": 250,\\n            \"alignment\": \"center\"\\n        },\\n        \"text\": {\\n            \"data\": \"Click Here\",\\n            \"size\": 36,\\n            \"style\": \"bold\",\\n            \"name\": \"text1\",\\n            \"hOffset\": 250,\\n            \"vOffset\": 100,\\n            \"alignment\": \"center\",\\n            \"onMouseUp\": \"sun1.opacity = (sun1.opacity / 100) * 90;\"\\n        }\\n    }\\n}\\nexample_dico[\"widget\"][\"window\"][\"title\"]',\n",
       " '_38': 'Sample Konfabulator Widget',\n",
       " '_i39': 'example_dico = {\\n    \"widget\": {\\n        \"débug\": \"on\",\\n        \"window\": {\\n            \"title\": \"Sample Konfabulator Widget\",\\n            \"name\": \"main_window\",\\n            \"width\": 500,\\n            \"height\": 500\\n        },\\n        \"image\": {\\n            \"src\": \"Images/Sun.png\",\\n            \"name\": \"sun1\",\\n            \"hOffset\": 250,\\n            \"vOffset\": 250,\\n            \"alignment\": \"center\"\\n        },\\n        \"text\": {\\n            \"data\": \"Click Here\",\\n            \"size\": 36,\\n            \"style\": \"bold\",\\n            \"name\": \"text1\",\\n            \"hOffset\": 250,\\n            \"vOffset\": 100,\\n            \"alignment\": \"center\",\\n            \"onMouseUp\": \"sun1.opacity = (sun1.opacity / 100) * 90;\"\\n        }\\n    }\\n}\\nexample_dico[\"widget\"][\"window\"][\"title\"]',\n",
       " '_39': 'Sample Konfabulator Widget',\n",
       " '_i40': 'example_dico = {\\n    \"widget\": {\\n        \"debug\": \"on\",\\n        \"window\": {\\n            \"title\": \"Sample Konfabulator Widget\",\\n            \"name\": \"main_window\",\\n            \"width\": 500,\\n            \"height\": 500\\n        },\\n        \"image\": {\\n            \"src\": \"Images/Sun.png\",\\n            \"name\": \"sun1\",\\n            \"hOffset\": 250,\\n            \"vOffset\": 250,\\n            \"alignment\": \"center\"\\n        },\\n        \"text\": {\\n            \"data\": \"Click Here\",\\n            \"size\": 36,\\n            \"style\": \"bold\",\\n            \"name\": \"text1\",\\n            \"hOffset\": 250,\\n            \"vOffset\": 100,\\n            \"alignment\": \"center\",\\n            \"onMouseUp\": \"sun1.opacity = (sun1.opacity / 100) * 90;\"\\n        }\\n    }\\n}\\nexample_dico[\"widget\"][\"window\"][\"title\"]',\n",
       " '_40': 'Sample Konfabulator Widget',\n",
       " '_i41': 'example_dico = {\\n    \"widget\": {\\n        \"débug\": \"on\",\\n        \"window\": {\\n            \"title\": \"Sample Konfabulator Widget\",\\n            \"name\": \"main_window\",\\n            \"width\": 500,\\n            \"height\": 500\\n        },\\n        \"image\": {\\n            \"src\": \"Images/Sun.png\",\\n            \"name\": \"sun1\",\\n            \"hOffset\": 250,\\n            \"vOffset\": 250,\\n            \"alignment\": \"center\"\\n        },\\n        \"text\": {\\n            \"data\": \"Click Here\",\\n            \"size\": 36,\\n            \"style\": \"bold\",\\n            \"name\": \"text1\",\\n            \"hOffset\": 250,\\n            \"vOffset\": 100,\\n            \"alignment\": \"center\",\\n            \"onMouseUp\": \"sun1.opacity = (sun1.opacity / 100) * 90;\"\\n        }\\n    }\\n}\\nexample_dico[\"widget\"][\"window\"][\"title\"]',\n",
       " '_41': 'Sample Konfabulator Widget',\n",
       " '_i42': 'example_dico = {\\n    \"widget\": {\\n        \"débug\": \"on\",\\n        \"window\": {\\n            \"title\": \"Sample Konfabulator Widget\",\\n            \"name\": \"main_window\",\\n            \"width\": 500,\\n            \"height\": 500\\n        },\\n        \"image\": {\\n            \"src\": \"Images/Sun.png\",\\n            \"name\": \"sun1\",\\n            \"hOffset\": 250,\\n            \"vOffset\": 250,\\n            \"alignment\": \"center\"\\n        },\\n        \"text\": {\\n            \"data\": \"Click Here\",\\n            \"size\": 36,\\n            \"style\": \"bold\",\\n            \"name\": \"text1\",\\n            \"hOffset\": 250,\\n            \"vOffset\": 100,\\n            \"alignment\": \"center\",\\n            \"onMouseUp\": \"sun1.opacity = (sun1.opacity / 100) * 90;\"\\n        }\\n    }\\n}\\n\\nprint(example_dico[\"widget\"][\"window\"][\"title\"])\\nprint(example_dico[\"widget\"][\"débug\"])',\n",
       " '_i43': 'import json \\njson.dumps(example_dico)',\n",
       " 'json': <module 'json' from 'C:\\\\Python38\\\\lib\\\\json\\\\__init__.py'>,\n",
       " '_43': '{\"widget\": {\"d\\\\u00e9bug\": \"on\", \"window\": {\"title\": \"Sample Konfabulator Widget\", \"name\": \"main_window\", \"width\": 500, \"height\": 500}, \"image\": {\"src\": \"Images/Sun.png\", \"name\": \"sun1\", \"hOffset\": 250, \"vOffset\": 250, \"alignment\": \"center\"}, \"text\": {\"data\": \"Click Here\", \"size\": 36, \"style\": \"bold\", \"name\": \"text1\", \"hOffset\": 250, \"vOffset\": 100, \"alignment\": \"center\", \"onMouseUp\": \"sun1.opacity = (sun1.opacity / 100) * 90;\"}}}',\n",
       " '_i44': 'import json \\njson_string = json.dumps(example_dico)',\n",
       " 'json_string': '{\"widget\": {\"d\\\\u00e9bug\": \"on\", \"window\": {\"title\": \"Sample Konfabulator Widget\", \"name\": \"main_window\", \"width\": 500, \"height\": 500}, \"image\": {\"src\": \"Images/Sun.png\", \"name\": \"sun1\", \"hOffset\": 250, \"vOffset\": 250, \"alignment\": \"center\"}, \"text\": {\"data\": \"Click Here\", \"size\": 36, \"style\": \"bold\", \"name\": \"text1\", \"hOffset\": 250, \"vOffset\": 100, \"alignment\": \"center\", \"onMouseUp\": \"sun1.opacity = (sun1.opacity / 100) * 90;\"}}}',\n",
       " '_i45': 'json.loads(json_string)',\n",
       " '_45': {'widget': {'débug': 'on',\n",
       "   'window': {'title': 'Sample Konfabulator Widget',\n",
       "    'name': 'main_window',\n",
       "    'width': 500,\n",
       "    'height': 500},\n",
       "   'image': {'src': 'Images/Sun.png',\n",
       "    'name': 'sun1',\n",
       "    'hOffset': 250,\n",
       "    'vOffset': 250,\n",
       "    'alignment': 'center'},\n",
       "   'text': {'data': 'Click Here',\n",
       "    'size': 36,\n",
       "    'style': 'bold',\n",
       "    'name': 'text1',\n",
       "    'hOffset': 250,\n",
       "    'vOffset': 100,\n",
       "    'alignment': 'center',\n",
       "    'onMouseUp': 'sun1.opacity = (sun1.opacity / 100) * 90;'}}},\n",
       " '_i46': 'pprint.pprint(json.loads(json_string))',\n",
       " '_i47': 'class MonNouveauType:\\n    pass',\n",
       " 'MonNouveauType': __main__.MonNouveauType,\n",
       " '_i48': 'mon_instance = MonNouveauType()\\nprint(mon_instance)',\n",
       " 'mon_instance': <__main__.MonNouveauType at 0x21c83764130>,\n",
       " '_i49': 'mon_instance = MonNouveauType()\\nprint(mon_instance)\\nprint(type(mon_instance))',\n",
       " '_i50': 'class MaPremiereClasse:\\n    def __init__(self):\\n        print(\"dans le constructeur de ma premiere classe\")',\n",
       " 'MaPremiereClasse': __main__.MaPremiereClasse,\n",
       " '_i51': 'class MaPremiereClasse:\\n    def __init__(self):\\n        print(\"dans le constructeur de ma premiere classe\")\\n    \\nmon_premier_objet = MaPremiereClasse()',\n",
       " 'mon_premier_objet': <__main__.MaPremiereClasse at 0x21c83769c40>,\n",
       " '_i52': 'class MaPremiereClasse:\\n    def __ini__(self):\\n        print(\"dans le constructeur de ma premiere classe\")\\n    \\nmon_premier_objet = MaPremiereClasse()',\n",
       " '_i53': 'class MaPremiereClasse:\\n    def _init__(self):\\n        print(\"dans le constructeur de ma premiere classe\")\\n    \\nmon_premier_objet = MaPremiereClasse()',\n",
       " '_i54': 'class MaPremiereClasse:\\n    def __init__(self):\\n        print(\"dans le constructeur de ma premiere classe\")\\n    \\nmon_premier_objet = MaPremiereClasse()',\n",
       " '_i55': 'class MaPremiereClasse:\\n    def __init__(self):\\n        print(\"dans le constructeur de ma premiere classe\")\\n    \\nmon_premier_objet = MaPremiereClasse()',\n",
       " '_i56': 'locals()'}"
      ]
     },
     "execution_count": 56,
     "metadata": {},
     "output_type": "execute_result"
    }
   ],
   "source": [
    "locals()"
   ]
  },
  {
   "cell_type": "code",
   "execution_count": null,
   "metadata": {},
   "outputs": [],
   "source": []
  }
 ],
 "metadata": {
  "kernelspec": {
   "display_name": "Python 3 (ipykernel)",
   "language": "python",
   "name": "python3"
  },
  "language_info": {
   "codemirror_mode": {
    "name": "ipython",
    "version": 3
   },
   "file_extension": ".py",
   "mimetype": "text/x-python",
   "name": "python",
   "nbconvert_exporter": "python",
   "pygments_lexer": "ipython3",
   "version": "3.8.2"
  }
 },
 "nbformat": 4,
 "nbformat_minor": 4
}
