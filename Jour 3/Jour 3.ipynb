{
 "cells": [
  {
   "cell_type": "markdown",
   "metadata": {},
   "source": [
    "# Rappel des épisodes précédents\n",
    "\n",
    "* types de de conteneurs bases et taille avec la fonction `len` et le mot clé `ìn`\n",
    "* tests unitaires \n",
    "   * on peut tester facilement des fonctions pures (une fonction qui pour une entrée donnée a une sortie donnée / prévisible)\n",
    "   * le but c'est de chercher à écrire des fonctions pures que l'on va tester\n",
    "* exceptions \n",
    "* réflexions sur les imports\n",
    "* manipulations de chaines de caractères \n",
    "   * `split` (séparer un séparateur donné)\n",
    "   * `join`\n",
    "   * `strip`\n",
    "   * `f-string` / méthode `.format` et leur mini langage "
   ]
  },
  {
   "cell_type": "markdown",
   "metadata": {},
   "source": [
    "## Listes en compréhension\n",
    "\n",
    "Les deux cellules suivantes sont équivalentes"
   ]
  },
  {
   "cell_type": "code",
   "execution_count": 19,
   "metadata": {},
   "outputs": [
    {
     "data": {
      "text/plain": [
       "6"
      ]
     },
     "execution_count": 19,
     "metadata": {},
     "output_type": "execute_result"
    }
   ],
   "source": [
    "# comprehension list / liste en compréhension\n",
    "sum(int(d.strip()) for d in \"1,2,3, 4 \".split(\",\") if d.isnumeric())"
   ]
  },
  {
   "cell_type": "code",
   "execution_count": 14,
   "metadata": {},
   "outputs": [
    {
     "name": "stdout",
     "output_type": "stream",
     "text": [
      "['1', '2', '3']\n"
     ]
    }
   ],
   "source": [
    "res = []\n",
    "for d in \"1,2,3, 4 \".split(\",\"):\n",
    "    if d.isnumeric():\n",
    "        res.append(d.strip())\n",
    "print(res)"
   ]
  },
  {
   "cell_type": "markdown",
   "metadata": {},
   "source": [
    "## Chaines de caractères\n",
    "\n",
    "L'itération se fait sur les caractères par défaut"
   ]
  },
  {
   "cell_type": "code",
   "execution_count": 11,
   "metadata": {},
   "outputs": [
    {
     "name": "stdout",
     "output_type": "stream",
     "text": [
      "s\n",
      "a\n",
      "l\n",
      "u\n",
      "t\n"
     ]
    }
   ],
   "source": [
    "s =\"salut\"\n",
    "for letter in s:\n",
    "    print(letter)"
   ]
  },
  {
   "cell_type": "code",
   "execution_count": 25,
   "metadata": {},
   "outputs": [
    {
     "data": {
      "text/plain": [
       "'abc'"
      ]
     },
     "execution_count": 25,
     "metadata": {},
     "output_type": "execute_result"
    }
   ],
   "source": [
    "\" \\t\\n abc \\r\\n\".strip()"
   ]
  },
  {
   "cell_type": "code",
   "execution_count": 26,
   "metadata": {},
   "outputs": [
    {
     "data": {
      "text/plain": [
       "\"ici c'est Marseille\""
      ]
     },
     "execution_count": 26,
     "metadata": {},
     "output_type": "execute_result"
    }
   ],
   "source": [
    "\"ici c'est Paris\".replace(\"Paris\", \"Marseille\")"
   ]
  },
  {
   "cell_type": "code",
   "execution_count": 27,
   "metadata": {},
   "outputs": [
    {
     "data": {
      "text/plain": [
       "True"
      ]
     },
     "execution_count": 27,
     "metadata": {},
     "output_type": "execute_result"
    }
   ],
   "source": [
    "my_string = \"ici c'est Paris\"\n",
    "\"ici c'est\" in my_string"
   ]
  },
  {
   "cell_type": "markdown",
   "metadata": {},
   "source": [
    "# Dictionnaires"
   ]
  },
  {
   "cell_type": "code",
   "execution_count": 35,
   "metadata": {},
   "outputs": [
    {
     "name": "stdout",
     "output_type": "stream",
     "text": [
      "{'cle': 'valeur', 1: 'ça marche', 2.4: 'aussi'} <class 'dict'>\n"
     ]
    }
   ],
   "source": [
    "d = {\"cle\":\"valeur\", 1: \"ça marche\", 2.4: \"aussi\"}\n",
    "print(d, type(d))"
   ]
  },
  {
   "cell_type": "code",
   "execution_count": 30,
   "metadata": {},
   "outputs": [
    {
     "data": {
      "text/plain": [
       "'valeur'"
      ]
     },
     "execution_count": 30,
     "metadata": {},
     "output_type": "execute_result"
    }
   ],
   "source": [
    "d[\"cle\"]"
   ]
  },
  {
   "cell_type": "code",
   "execution_count": 31,
   "metadata": {},
   "outputs": [
    {
     "ename": "KeyError",
     "evalue": "'nexistepas'",
     "output_type": "error",
     "traceback": [
      "\u001b[1;31m---------------------------------------------------------------------------\u001b[0m",
      "\u001b[1;31mKeyError\u001b[0m                                  Traceback (most recent call last)",
      "\u001b[1;32m<ipython-input-31-2352227f1bb8>\u001b[0m in \u001b[0;36m<module>\u001b[1;34m\u001b[0m\n\u001b[1;32m----> 1\u001b[1;33m \u001b[0md\u001b[0m\u001b[1;33m[\u001b[0m\u001b[1;34m\"nexistepas\"\u001b[0m\u001b[1;33m]\u001b[0m\u001b[1;33m\u001b[0m\u001b[1;33m\u001b[0m\u001b[0m\n\u001b[0m",
      "\u001b[1;31mKeyError\u001b[0m: 'nexistepas'"
     ]
    }
   ],
   "source": [
    "d[\"nexistepas\"]"
   ]
  },
  {
   "cell_type": "code",
   "execution_count": 32,
   "metadata": {},
   "outputs": [
    {
     "data": {
      "text/plain": [
       "'valeur par défaut'"
      ]
     },
     "execution_count": 32,
     "metadata": {},
     "output_type": "execute_result"
    }
   ],
   "source": [
    "d.get(\"pas sur que la cle existe\", \"valeur par défaut\")"
   ]
  },
  {
   "cell_type": "code",
   "execution_count": 38,
   "metadata": {},
   "outputs": [
    {
     "name": "stdout",
     "output_type": "stream",
     "text": [
      "{'cle': 'valeur', 1: 'ça marche', 2.4: 'aussi', (1, 2): 'ça oui ça marche'}\n"
     ]
    }
   ],
   "source": [
    "d = {\"cle\":\"valeur\", 1: \"ça marche\", 2.4: \"aussi\", (1, 2): \"ça oui ça marche\"}\n",
    "print(d)"
   ]
  },
  {
   "cell_type": "code",
   "execution_count": 45,
   "metadata": {},
   "outputs": [
    {
     "data": {
      "text/plain": [
       "'ça oui ça marche'"
      ]
     },
     "execution_count": 45,
     "metadata": {},
     "output_type": "execute_result"
    }
   ],
   "source": [
    "d[(1, 2)]"
   ]
  },
  {
   "cell_type": "code",
   "execution_count": 48,
   "metadata": {},
   "outputs": [
    {
     "name": "stdout",
     "output_type": "stream",
     "text": [
      "cle valeur\n",
      "1 ça marche\n",
      "2.4 aussi\n",
      "(1, 2) ça oui ça marche\n"
     ]
    }
   ],
   "source": [
    "for key in d:\n",
    "    print(key, d[key])"
   ]
  },
  {
   "cell_type": "code",
   "execution_count": 72,
   "metadata": {},
   "outputs": [
    {
     "name": "stdout",
     "output_type": "stream",
     "text": [
      "cle valeur\n",
      "1 ça marche\n",
      "2.4 aussi\n",
      "(1, 2) ça oui ça marche\n"
     ]
    }
   ],
   "source": [
    "for cle, valeur in d.items():\n",
    "    print(cle, valeur)"
   ]
  },
  {
   "cell_type": "code",
   "execution_count": 64,
   "metadata": {},
   "outputs": [
    {
     "name": "stdout",
     "output_type": "stream",
     "text": [
      "(1, 2)\n",
      "ça oui ça marche\n"
     ]
    }
   ],
   "source": [
    "cle = quelquechose[0]\n",
    "valeur = quelquechose[1]\n",
    "# cle, valeur = quelquechose\n",
    "print(cle)\n",
    "print(valeur)"
   ]
  },
  {
   "cell_type": "code",
   "execution_count": 65,
   "metadata": {},
   "outputs": [],
   "source": [
    "def f():\n",
    "    return True, \"ça marche\"\n",
    "\n",
    "status, message = f()"
   ]
  },
  {
   "cell_type": "code",
   "execution_count": 66,
   "metadata": {},
   "outputs": [
    {
     "name": "stdout",
     "output_type": "stream",
     "text": [
      "<class 'tuple'>\n"
     ]
    }
   ],
   "source": [
    "res = f()\n",
    "status = res[0]\n",
    "message = res[1]"
   ]
  },
  {
   "cell_type": "markdown",
   "metadata": {},
   "source": [
    "## Tuple unpacking"
   ]
  },
  {
   "cell_type": "code",
   "execution_count": 70,
   "metadata": {},
   "outputs": [
    {
     "data": {
      "text/plain": [
       "2"
      ]
     },
     "execution_count": 70,
     "metadata": {},
     "output_type": "execute_result"
    }
   ],
   "source": [
    "a = [\n",
    "    [1, 2], \n",
    "    [3, 4]\n",
    "]\n",
    "a[0][1]"
   ]
  },
  {
   "cell_type": "code",
   "execution_count": 88,
   "metadata": {},
   "outputs": [
    {
     "name": "stdout",
     "output_type": "stream",
     "text": [
      "True 2\n",
      "False 1\n",
      "True 3\n"
     ]
    }
   ],
   "source": [
    "l = [\n",
    "    [True, \"message\", (1, 2, 3)],\n",
    "    [False, \"casse\", (1, 1, 1)],\n",
    "    [True, \"super\", (-1, 3, 5)],\n",
    "]\n",
    "\n",
    "for status, _, (_, coord_y, _) in l:\n",
    "    print(status, coord_y)"
   ]
  },
  {
   "cell_type": "code",
   "execution_count": 95,
   "metadata": {},
   "outputs": [
    {
     "name": "stdout",
     "output_type": "stream",
     "text": [
      "1\n",
      "2\n",
      "[3, 4, 5, 6, 7]\n",
      "8\n",
      "9\n"
     ]
    }
   ],
   "source": [
    "a, b, *c, d, e = [1, 2, 3, 4, 5, 6, 7, 8, 9]\n",
    "print(a)\n",
    "print(b)\n",
    "print(c)\n",
    "print(d)\n",
    "print(e)"
   ]
  },
  {
   "cell_type": "markdown",
   "metadata": {},
   "source": [
    "# Exercice sur les dictionnaires"
   ]
  },
  {
   "cell_type": "code",
   "execution_count": 174,
   "metadata": {},
   "outputs": [
    {
     "name": "stdout",
     "output_type": "stream",
     "text": [
      "\"Les dictionnaires c'est cool !!\"\n"
     ]
    }
   ],
   "source": [
    "# chaine = \"\"\"Les dictionnaires c'est cool !!\n",
    "# Et les chaines ça tient sur plusieurs lignes. \n",
    "# C'est cool\"\"\"\n",
    "\n",
    "chaine = \"Les dictionnaires c'est cool !!\"\n",
    "print(repr(chaine))"
   ]
  },
  {
   "cell_type": "markdown",
   "metadata": {},
   "source": [
    "## Solution 1 \n",
    "\n",
    "La complexité est en $n^2$"
   ]
  },
  {
   "cell_type": "code",
   "execution_count": 175,
   "metadata": {},
   "outputs": [],
   "source": [
    "lettre_parcourues = []\n",
    "compteur_de_lettres = []\n",
    "for lettre in chaine:\n",
    "    if lettre in lettre_parcourues:\n",
    "        continue \n",
    "    compteur_de_lettres.append(chaine.count(lettre))\n",
    "    lettre_parcourues.append(lettre)"
   ]
  },
  {
   "cell_type": "markdown",
   "metadata": {},
   "source": [
    "Présentation des résultats"
   ]
  },
  {
   "cell_type": "code",
   "execution_count": 176,
   "metadata": {},
   "outputs": [
    {
     "name": "stdout",
     "output_type": "stream",
     "text": [
      "['L', 'e', 's', ' ', 'd', 'i', 'c', 't', 'o', 'n', 'a', 'r', \"'\", 'l', '!']\n",
      "[1, 3, 3, 4, 1, 3, 3, 2, 3, 2, 1, 1, 1, 1, 2]\n",
      "la lettre L apparait 1 fois\n",
      "la lettre e apparait 3 fois\n",
      "la lettre s apparait 3 fois\n",
      "la lettre   apparait 4 fois\n",
      "la lettre d apparait 1 fois\n",
      "la lettre i apparait 3 fois\n",
      "la lettre c apparait 3 fois\n",
      "la lettre t apparait 2 fois\n",
      "la lettre o apparait 3 fois\n",
      "la lettre n apparait 2 fois\n",
      "la lettre a apparait 1 fois\n",
      "la lettre r apparait 1 fois\n",
      "la lettre ' apparait 1 fois\n",
      "la lettre l apparait 1 fois\n",
      "la lettre ! apparait 2 fois\n"
     ]
    }
   ],
   "source": [
    "print(lettre_parcourues)\n",
    "print(compteur_de_lettres)\n",
    "\n",
    "for index in range(len(lettre_parcourues)):\n",
    "    lettre = lettre_parcourues[index]\n",
    "    nombre = compteur_de_lettres[index]\n",
    "    print(f\"la lettre {lettre} apparait {nombre} fois\")"
   ]
  },
  {
   "cell_type": "code",
   "execution_count": 177,
   "metadata": {},
   "outputs": [
    {
     "name": "stdout",
     "output_type": "stream",
     "text": [
      "la lettre L apparait 1 fois\n",
      "la lettre e apparait 3 fois\n",
      "la lettre s apparait 3 fois\n",
      "la lettre   apparait 4 fois\n",
      "la lettre d apparait 1 fois\n",
      "la lettre i apparait 3 fois\n",
      "la lettre c apparait 3 fois\n",
      "la lettre t apparait 2 fois\n",
      "la lettre o apparait 3 fois\n",
      "la lettre n apparait 2 fois\n",
      "la lettre a apparait 1 fois\n",
      "la lettre r apparait 1 fois\n",
      "la lettre ' apparait 1 fois\n",
      "la lettre l apparait 1 fois\n",
      "la lettre ! apparait 2 fois\n"
     ]
    }
   ],
   "source": [
    "for lettre, nombre in zip(lettre_parcourues, compteur_de_lettres):\n",
    "    print(f\"la lettre {lettre} apparait {nombre} fois\")"
   ]
  },
  {
   "cell_type": "markdown",
   "metadata": {},
   "source": [
    "## Solution 2 \n",
    "\n",
    "Nous allons utiliser des dictionnaires. \n",
    "\n",
    "On se base sur le principe que les ditionnaires ne peuvent pas contenir de doublons. "
   ]
  },
  {
   "cell_type": "code",
   "execution_count": 178,
   "metadata": {},
   "outputs": [
    {
     "name": "stdout",
     "output_type": "stream",
     "text": [
      "{1: 'toto'}\n",
      "{1: 'tata'}\n"
     ]
    }
   ],
   "source": [
    "d = {}\n",
    "d[1] = \"toto\"\n",
    "print(d)\n",
    "d[1] = 'tata'\n",
    "print(d)"
   ]
  },
  {
   "cell_type": "markdown",
   "metadata": {},
   "source": [
    "#### Approche 1"
   ]
  },
  {
   "cell_type": "code",
   "execution_count": 179,
   "metadata": {},
   "outputs": [
    {
     "name": "stdout",
     "output_type": "stream",
     "text": [
      "{'L': 1, 'e': 3, 's': 3, ' ': 4, 'd': 1, 'i': 3, 'c': 3, 't': 2, 'o': 3, 'n': 2, 'a': 1, 'r': 1, \"'\": 1, 'l': 1, '!': 2}\n"
     ]
    }
   ],
   "source": [
    "compteur = {}\n",
    "for lettre in chaine:\n",
    "    if not lettre in compteur:\n",
    "        compteur[lettre] = 0\n",
    "    compteur[lettre] +=  1\n",
    "    \n",
    "print(compteur)"
   ]
  },
  {
   "cell_type": "markdown",
   "metadata": {},
   "source": [
    "#### Approche 2"
   ]
  },
  {
   "cell_type": "code",
   "execution_count": 180,
   "metadata": {},
   "outputs": [
    {
     "name": "stdout",
     "output_type": "stream",
     "text": [
      "{'L': 1, 'e': 3, 's': 3, ' ': 4, 'd': 1, 'i': 3, 'c': 3, 't': 2, 'o': 3, 'n': 2, 'a': 1, 'r': 1, \"'\": 1, 'l': 1, '!': 2}\n"
     ]
    }
   ],
   "source": [
    "compteur = {}\n",
    "for lettre in chaine:\n",
    "    if lettre in compteur:\n",
    "        compteur[lettre] = compteur[lettre] + 1\n",
    "    else:\n",
    "        compteur[lettre] = 1\n",
    "print(compteur)"
   ]
  },
  {
   "cell_type": "code",
   "execution_count": 181,
   "metadata": {},
   "outputs": [
    {
     "name": "stdout",
     "output_type": "stream",
     "text": [
      "la lettre L apparait 1 fois\n",
      "la lettre e apparait 3 fois\n",
      "la lettre s apparait 3 fois\n",
      "la lettre   apparait 4 fois\n",
      "la lettre d apparait 1 fois\n",
      "la lettre i apparait 3 fois\n",
      "la lettre c apparait 3 fois\n",
      "la lettre t apparait 2 fois\n",
      "la lettre o apparait 3 fois\n",
      "la lettre n apparait 2 fois\n",
      "la lettre a apparait 1 fois\n",
      "la lettre r apparait 1 fois\n",
      "la lettre ' apparait 1 fois\n",
      "la lettre l apparait 1 fois\n",
      "la lettre ! apparait 2 fois\n"
     ]
    }
   ],
   "source": [
    "for lettre, nombre in compteur.items():\n",
    "    print(f\"la lettre {lettre} apparait {nombre} fois\")"
   ]
  },
  {
   "cell_type": "markdown",
   "metadata": {},
   "source": [
    "### Solution 3"
   ]
  },
  {
   "cell_type": "code",
   "execution_count": 182,
   "metadata": {},
   "outputs": [
    {
     "name": "stdout",
     "output_type": "stream",
     "text": [
      "[(' ', 4), ('e', 3), ('s', 3), ('i', 3), ('c', 3), ('o', 3), ('t', 2)]\n"
     ]
    }
   ],
   "source": [
    "import collections\n",
    "\n",
    "c = collections.Counter(chaine)\n",
    "print(c.most_common(7))"
   ]
  },
  {
   "cell_type": "markdown",
   "metadata": {},
   "source": [
    "## Lettres les plus communes avec un dictionnaire"
   ]
  },
  {
   "cell_type": "code",
   "execution_count": 195,
   "metadata": {},
   "outputs": [
    {
     "data": {
      "text/plain": [
       "[(4, ' '),\n",
       " (3, 's'),\n",
       " (3, 'o'),\n",
       " (3, 'i'),\n",
       " (3, 'e'),\n",
       " (3, 'c'),\n",
       " (2, 't'),\n",
       " (2, 'n'),\n",
       " (2, '!'),\n",
       " (1, 'r'),\n",
       " (1, 'l'),\n",
       " (1, 'd'),\n",
       " (1, 'a'),\n",
       " (1, 'L'),\n",
       " (1, \"'\")]"
      ]
     },
     "execution_count": 195,
     "metadata": {},
     "output_type": "execute_result"
    }
   ],
   "source": [
    "sorted([(valeur, cle) for cle, valeur in compteur.items()], reverse=True)"
   ]
  },
  {
   "cell_type": "code",
   "execution_count": 196,
   "metadata": {},
   "outputs": [
    {
     "data": {
      "text/plain": [
       "[('a', 3), ('b', 2), ('c', 1)]"
      ]
     },
     "execution_count": 196,
     "metadata": {},
     "output_type": "execute_result"
    }
   ],
   "source": [
    "l = [(\"c\", 1), (\"b\", 2), (\"a\", 3)]\n",
    "sorted(l)"
   ]
  },
  {
   "cell_type": "code",
   "execution_count": 4,
   "metadata": {},
   "outputs": [
    {
     "data": {
      "text/plain": [
       "[('a', 1), ('a', 3), ('b', 2), ('c', 1)]"
      ]
     },
     "execution_count": 4,
     "metadata": {},
     "output_type": "execute_result"
    }
   ],
   "source": [
    "l = [(\"a\", 3), (\"b\", 2), (\"c\", 1), (\"a\", 1)]\n",
    "sorted(l)"
   ]
  },
  {
   "cell_type": "code",
   "execution_count": 5,
   "metadata": {},
   "outputs": [
    {
     "name": "stdout",
     "output_type": "stream",
     "text": [
      "Help on built-in function sorted in module builtins:\n",
      "\n",
      "sorted(iterable, /, *, key=None, reverse=False)\n",
      "    Return a new list containing all items from the iterable in ascending order.\n",
      "    \n",
      "    A custom key function can be supplied to customize the sort order, and the\n",
      "    reverse flag can be set to request the result in descending order.\n",
      "\n"
     ]
    }
   ],
   "source": [
    "help(sorted)"
   ]
  },
  {
   "cell_type": "code",
   "execution_count": 6,
   "metadata": {},
   "outputs": [],
   "source": [
    "def sort(a, b, key):\n",
    "    if key(a) < key(b):\n",
    "        return a, b\n",
    "    else:\n",
    "        return b, a"
   ]
  },
  {
   "cell_type": "code",
   "execution_count": 14,
   "metadata": {},
   "outputs": [
    {
     "name": "stdout",
     "output_type": "stream",
     "text": [
      "('a', 3)\n",
      "('b', 2)\n",
      "('c', 1)\n",
      "('a', 1)\n"
     ]
    },
    {
     "data": {
      "text/plain": [
       "[('c', 1), ('a', 1), ('b', 2), ('a', 3)]"
      ]
     },
     "execution_count": 14,
     "metadata": {},
     "output_type": "execute_result"
    }
   ],
   "source": [
    "def my_key_function(item):\n",
    "    return item[1]\n",
    "\n",
    "my_key_function = \n",
    "\n",
    "l = [(\"a\", 3), (\"b\", 2), (\"c\", 1), (\"a\", 1)]\n",
    "sorted(l, key= lambda item: item[1])"
   ]
  },
  {
   "cell_type": "code",
   "execution_count": null,
   "metadata": {},
   "outputs": [],
   "source": []
  }
 ],
 "metadata": {
  "kernelspec": {
   "display_name": "Python 3 (ipykernel)",
   "language": "python",
   "name": "python3"
  },
  "language_info": {
   "codemirror_mode": {
    "name": "ipython",
    "version": 3
   },
   "file_extension": ".py",
   "mimetype": "text/x-python",
   "name": "python",
   "nbconvert_exporter": "python",
   "pygments_lexer": "ipython3",
   "version": "3.8.2"
  }
 },
 "nbformat": 4,
 "nbformat_minor": 4
}
