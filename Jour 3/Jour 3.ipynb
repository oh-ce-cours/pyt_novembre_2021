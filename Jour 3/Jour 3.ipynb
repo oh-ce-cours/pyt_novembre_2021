{
 "cells": [
  {
   "cell_type": "markdown",
   "metadata": {},
   "source": [
    "# Rappel des épisodes précédents\n",
    "\n",
    "* types de de conteneurs bases \n",
    "* tests unitaires \n",
    "   * on peut tester facilement des fonctions pures (une fonction qui pour une entrée donnée a une sortie donnée / prévisible)\n",
    "   * le but c'est de chercher à écrire des fonctions pures que l'on va tester\n",
    "* exceptions \n",
    "* manipulations de chaines de caractères \n",
    "   * "
   ]
  },
  {
   "cell_type": "code",
   "execution_count": null,
   "metadata": {},
   "outputs": [],
   "source": []
  }
 ],
 "metadata": {
  "kernelspec": {
   "display_name": "Python 3",
   "language": "python",
   "name": "python3"
  },
  "language_info": {
   "codemirror_mode": {
    "name": "ipython",
    "version": 3
   },
   "file_extension": ".py",
   "mimetype": "text/x-python",
   "name": "python",
   "nbconvert_exporter": "python",
   "pygments_lexer": "ipython3",
   "version": "3.8.2"
  }
 },
 "nbformat": 4,
 "nbformat_minor": 4
}
